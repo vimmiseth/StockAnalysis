{
  "nbformat": 4,
  "nbformat_minor": 0,
  "metadata": {
    "colab": {
      "name": "Copy of Finance 101 - Portfolio Assets Allocation and Statistical Data Analysis - Skeleton.ipynb",
      "provenance": [],
      "collapsed_sections": [],
      "include_colab_link": true
    },
    "kernelspec": {
      "name": "python3",
      "display_name": "Python 3"
    }
  },
  "cells": [
    {
      "cell_type": "markdown",
      "metadata": {
        "id": "view-in-github",
        "colab_type": "text"
      },
      "source": [
        "<a href=\"https://colab.research.google.com/github/vimmiseth/StockAnalysis/blob/main/Copy_of_Finance_101_Portfolio_Assets_Allocation_and_Statistical_Data_Analysis_Skeleton.ipynb\" target=\"_parent\"><img src=\"https://colab.research.google.com/assets/colab-badge.svg\" alt=\"Open In Colab\"/></a>"
      ]
    },
    {
      "cell_type": "markdown",
      "metadata": {
        "id": "ltpfSDVCRbRX"
      },
      "source": [
        "#TASK #1: PROJECT OVERVIEW AND ASSET TYPES"
      ]
    },
    {
      "cell_type": "markdown",
      "metadata": {
        "id": "sxflQbPmX-Pm"
      },
      "source": [
        "![alt text](https://drive.google.com/uc?id=1TEVVCFWQD8F5mlC7FzD-JM2y54ivYZHT)"
      ]
    },
    {
      "cell_type": "markdown",
      "metadata": {
        "id": "Sm6dYc4lYWXI"
      },
      "source": [
        "![alt text](https://drive.google.com/uc?id=1Z253Wmij7HCEHqPsMdEI56qYqASRrsjn)\n"
      ]
    },
    {
      "cell_type": "markdown",
      "metadata": {
        "id": "J8oYWnAoYWzN"
      },
      "source": [
        "![alt text](https://drive.google.com/uc?id=10XxwtKY2qEiNAdTkqNXKhNFZrWvwwKbN)"
      ]
    },
    {
      "cell_type": "markdown",
      "metadata": {
        "id": "W_YgRmfpYW9d"
      },
      "source": [
        "![alt text](https://drive.google.com/uc?id=1SfBtfOoDigo4ofEvPAwIojqGHpMojL5S)"
      ]
    },
    {
      "cell_type": "markdown",
      "metadata": {
        "id": "uXLoS6qS74qs"
      },
      "source": [
        "Links:\n",
        "- https://www.bankofcanada.ca/rates/interest-rates/canadian-bonds/\n",
        "- https://ca.finance.yahoo.com/quote/AAPL?p=AAPL&.tsrc=fin-tre-srch\n",
        "- https://investor.vanguard.com/etf/profile/performance/voo\n",
        "- https://grow.acorns.com/warren-buffett-index-funds/\n",
        "\n"
      ]
    },
    {
      "cell_type": "markdown",
      "metadata": {
        "id": "_OtNKjlXS5YR"
      },
      "source": [
        "# TASK #2: IMPORT LIBRARIES & DATASETS AND PERFORM DATA VISUALIZATION"
      ]
    },
    {
      "cell_type": "code",
      "metadata": {
        "id": "4j9CzvYyRjq3",
        "outputId": "678705a3-7499-4662-bed1-56b9e16f31d1",
        "colab": {
          "base_uri": "https://localhost:8080/",
          "height": 35
        }
      },
      "source": [
        "from google.colab import drive\n",
        "drive.mount('/content/drive')"
      ],
      "execution_count": null,
      "outputs": [
        {
          "output_type": "stream",
          "text": [
            "Mounted at /content/drive\n"
          ],
          "name": "stdout"
        }
      ]
    },
    {
      "cell_type": "code",
      "metadata": {
        "id": "TMxtZdEjRjoc"
      },
      "source": [
        "import pandas as pd\n",
        "import plotly.express as px\n",
        "from copy import copy\n",
        "from scipy import stats\n",
        "import matplotlib.pyplot as plt\n",
        "import numpy as np\n",
        "import plotly.figure_factory as ff\n",
        "import plotly.graph_objects as go"
      ],
      "execution_count": null,
      "outputs": []
    },
    {
      "cell_type": "code",
      "metadata": {
        "id": "rjnkqEJzRjtC",
        "outputId": "732133de-50bc-47c6-c065-c3ade632d2d1",
        "colab": {
          "base_uri": "https://localhost:8080/",
          "height": 110
        }
      },
      "source": [
        "# Read the stock data file\n",
        "dfStocks = pd.read_csv('/content/drive/My Drive/Colab Notebooks/stocks.csv')\n",
        "dfStocks.head(2)"
      ],
      "execution_count": null,
      "outputs": [
        {
          "output_type": "execute_result",
          "data": {
            "text/html": [
              "<div>\n",
              "<style scoped>\n",
              "    .dataframe tbody tr th:only-of-type {\n",
              "        vertical-align: middle;\n",
              "    }\n",
              "\n",
              "    .dataframe tbody tr th {\n",
              "        vertical-align: top;\n",
              "    }\n",
              "\n",
              "    .dataframe thead th {\n",
              "        text-align: right;\n",
              "    }\n",
              "</style>\n",
              "<table border=\"1\" class=\"dataframe\">\n",
              "  <thead>\n",
              "    <tr style=\"text-align: right;\">\n",
              "      <th></th>\n",
              "      <th>Date</th>\n",
              "      <th>AAPL</th>\n",
              "      <th>BA</th>\n",
              "      <th>T</th>\n",
              "      <th>MGM</th>\n",
              "      <th>AMZN</th>\n",
              "      <th>IBM</th>\n",
              "      <th>TSLA</th>\n",
              "      <th>GOOG</th>\n",
              "      <th>sp500</th>\n",
              "    </tr>\n",
              "  </thead>\n",
              "  <tbody>\n",
              "    <tr>\n",
              "      <th>0</th>\n",
              "      <td>2012-01-12</td>\n",
              "      <td>60.198570</td>\n",
              "      <td>75.510002</td>\n",
              "      <td>30.120001</td>\n",
              "      <td>12.13</td>\n",
              "      <td>175.929993</td>\n",
              "      <td>180.550003</td>\n",
              "      <td>28.250000</td>\n",
              "      <td>313.644379</td>\n",
              "      <td>1295.500000</td>\n",
              "    </tr>\n",
              "    <tr>\n",
              "      <th>1</th>\n",
              "      <td>2012-01-13</td>\n",
              "      <td>59.972858</td>\n",
              "      <td>74.599998</td>\n",
              "      <td>30.070000</td>\n",
              "      <td>12.35</td>\n",
              "      <td>178.419998</td>\n",
              "      <td>179.160004</td>\n",
              "      <td>22.790001</td>\n",
              "      <td>311.328064</td>\n",
              "      <td>1289.089966</td>\n",
              "    </tr>\n",
              "  </tbody>\n",
              "</table>\n",
              "</div>"
            ],
            "text/plain": [
              "         Date       AAPL         BA  ...       TSLA        GOOG        sp500\n",
              "0  2012-01-12  60.198570  75.510002  ...  28.250000  313.644379  1295.500000\n",
              "1  2012-01-13  59.972858  74.599998  ...  22.790001  311.328064  1289.089966\n",
              "\n",
              "[2 rows x 10 columns]"
            ]
          },
          "metadata": {
            "tags": []
          },
          "execution_count": 33
        }
      ]
    },
    {
      "cell_type": "code",
      "metadata": {
        "id": "O-iq0rQVRysa"
      },
      "source": [
        "# Sort the data based on Date\n"
      ],
      "execution_count": null,
      "outputs": []
    },
    {
      "cell_type": "markdown",
      "metadata": {
        "id": "Y3RoHYBBcR-x"
      },
      "source": [
        "**MINI CHALLENGE #1:** \n",
        "- **Use Plotly express to visualize raw stock data and normalized ones** "
      ]
    },
    {
      "cell_type": "code",
      "metadata": {
        "id": "wbF3MU65cTXg"
      },
      "source": [
        ""
      ],
      "execution_count": null,
      "outputs": []
    },
    {
      "cell_type": "code",
      "metadata": {
        "id": "huDamT6YEit8"
      },
      "source": [
        ""
      ],
      "execution_count": null,
      "outputs": []
    },
    {
      "cell_type": "code",
      "metadata": {
        "id": "hYF0JHUeEisT"
      },
      "source": [
        ""
      ],
      "execution_count": null,
      "outputs": []
    },
    {
      "cell_type": "code",
      "metadata": {
        "id": "14x8-kTVEip7"
      },
      "source": [
        ""
      ],
      "execution_count": null,
      "outputs": []
    },
    {
      "cell_type": "markdown",
      "metadata": {
        "id": "i3iec4kDdqFh"
      },
      "source": [
        "# TASK #3: UNERSTAND THE CONCEPT OF ASSET ALLOCATION"
      ]
    },
    {
      "cell_type": "markdown",
      "metadata": {
        "id": "I-JZLZnfYWtf"
      },
      "source": [
        "![alt text](https://drive.google.com/uc?id=17SLLaxLeP6vlXH6MltEQMFNbt5u-J6iK)"
      ]
    },
    {
      "cell_type": "markdown",
      "metadata": {
        "id": "W_EpPAcSYWqD"
      },
      "source": [
        "![alt text](https://drive.google.com/uc?id=1qLML-ejBIKR8Bv8aeItfNaJuhq5GzvJ5)"
      ]
    },
    {
      "cell_type": "markdown",
      "metadata": {
        "id": "Uc05TkRjYWnQ"
      },
      "source": [
        "![alt text](https://drive.google.com/uc?id=1iR3WYvU9SYVRqhKwR91x0AsE5sGQtFhz)"
      ]
    },
    {
      "cell_type": "markdown",
      "metadata": {
        "id": "-nvTQjfrfapS"
      },
      "source": [
        "**MINI CHALLENGE #2:**\n",
        "- **What is the common advice that financial advisors generally give to retired seniors when it comes to asset allocations?**"
      ]
    },
    {
      "cell_type": "code",
      "metadata": {
        "id": "pNFI_hnshyVv"
      },
      "source": [
        ""
      ],
      "execution_count": null,
      "outputs": []
    },
    {
      "cell_type": "markdown",
      "metadata": {
        "id": "NYaUBZZTcnkP"
      },
      "source": [
        "# TASK #4: PERFORM RANDOM ASSET ALLOCATION AND CALCULATE PORTFOLIO DAILY RETURN"
      ]
    },
    {
      "cell_type": "code",
      "metadata": {
        "id": "oCeDaFXwPd9y",
        "outputId": "a3d182ed-b54e-46b9-adc7-3fb4c589b1e7",
        "colab": {
          "base_uri": "https://localhost:8080/",
          "height": 52
        }
      },
      "source": [
        "np.random.seed(101)\n",
        "ar = np.array(np.random.random(9))\n",
        "ar"
      ],
      "execution_count": null,
      "outputs": [
        {
          "output_type": "execute_result",
          "data": {
            "text/plain": [
              "array([0.51639863, 0.57066759, 0.02847423, 0.17152166, 0.68527698,\n",
              "       0.83389686, 0.30696622, 0.89361308, 0.72154386])"
            ]
          },
          "metadata": {
            "tags": []
          },
          "execution_count": 16
        }
      ]
    },
    {
      "cell_type": "code",
      "metadata": {
        "id": "YcAl_cZ8fTwG",
        "outputId": "9bdbeca5-a6ab-4529-9b6f-12ffb7156bcd",
        "colab": {
          "base_uri": "https://localhost:8080/",
          "height": 52
        }
      },
      "source": [
        "arn = ar/np.sum(ar)\n",
        "arn"
      ],
      "execution_count": null,
      "outputs": [
        {
          "output_type": "execute_result",
          "data": {
            "text/plain": [
              "array([0.10921307, 0.12069041, 0.00602201, 0.03627509, 0.14492913,\n",
              "       0.17636073, 0.06492024, 0.1889901 , 0.15259921])"
            ]
          },
          "metadata": {
            "tags": []
          },
          "execution_count": 17
        }
      ]
    },
    {
      "cell_type": "code",
      "metadata": {
        "id": "csxuc3peOwCc",
        "outputId": "9f9fd87b-6506-437f-f7d6-a97d369b8189",
        "colab": {
          "base_uri": "https://localhost:8080/",
          "height": 52
        }
      },
      "source": [
        "arn1 = np.round_(arn,6)\n",
        "arn1"
      ],
      "execution_count": null,
      "outputs": [
        {
          "output_type": "execute_result",
          "data": {
            "text/plain": [
              "array([0.109213, 0.12069 , 0.006022, 0.036275, 0.144929, 0.176361,\n",
              "       0.06492 , 0.18899 , 0.152599])"
            ]
          },
          "metadata": {
            "tags": []
          },
          "execution_count": 113
        }
      ]
    },
    {
      "cell_type": "code",
      "metadata": {
        "id": "zN2Z33WZI5nP"
      },
      "source": [
        ""
      ],
      "execution_count": null,
      "outputs": []
    },
    {
      "cell_type": "code",
      "metadata": {
        "id": "F2LHZ6wMCkf6",
        "outputId": "76cddab5-486e-4210-8143-f7c03989548c",
        "colab": {
          "base_uri": "https://localhost:8080/",
          "height": 110
        }
      },
      "source": [
        "# Normalize the stock avalues \n",
        "dfnstocks = normalize(dfStocks)\n",
        "dfnstocks.head(2)"
      ],
      "execution_count": null,
      "outputs": [
        {
          "output_type": "execute_result",
          "data": {
            "text/html": [
              "<div>\n",
              "<style scoped>\n",
              "    .dataframe tbody tr th:only-of-type {\n",
              "        vertical-align: middle;\n",
              "    }\n",
              "\n",
              "    .dataframe tbody tr th {\n",
              "        vertical-align: top;\n",
              "    }\n",
              "\n",
              "    .dataframe thead th {\n",
              "        text-align: right;\n",
              "    }\n",
              "</style>\n",
              "<table border=\"1\" class=\"dataframe\">\n",
              "  <thead>\n",
              "    <tr style=\"text-align: right;\">\n",
              "      <th></th>\n",
              "      <th>Date</th>\n",
              "      <th>AAPL</th>\n",
              "      <th>BA</th>\n",
              "      <th>T</th>\n",
              "      <th>MGM</th>\n",
              "      <th>AMZN</th>\n",
              "      <th>IBM</th>\n",
              "      <th>TSLA</th>\n",
              "      <th>GOOG</th>\n",
              "      <th>sp500</th>\n",
              "    </tr>\n",
              "  </thead>\n",
              "  <tbody>\n",
              "    <tr>\n",
              "      <th>0</th>\n",
              "      <td>2012-01-12</td>\n",
              "      <td>1.000000</td>\n",
              "      <td>1.000000</td>\n",
              "      <td>1.00000</td>\n",
              "      <td>1.000000</td>\n",
              "      <td>1.000000</td>\n",
              "      <td>1.000000</td>\n",
              "      <td>1.000000</td>\n",
              "      <td>1.000000</td>\n",
              "      <td>1.000000</td>\n",
              "    </tr>\n",
              "    <tr>\n",
              "      <th>1</th>\n",
              "      <td>2012-01-13</td>\n",
              "      <td>0.996251</td>\n",
              "      <td>0.987949</td>\n",
              "      <td>0.99834</td>\n",
              "      <td>1.018137</td>\n",
              "      <td>1.014153</td>\n",
              "      <td>0.992301</td>\n",
              "      <td>0.806726</td>\n",
              "      <td>0.992615</td>\n",
              "      <td>0.995052</td>\n",
              "    </tr>\n",
              "  </tbody>\n",
              "</table>\n",
              "</div>"
            ],
            "text/plain": [
              "         Date      AAPL        BA  ...      TSLA      GOOG     sp500\n",
              "0  2012-01-12  1.000000  1.000000  ...  1.000000  1.000000  1.000000\n",
              "1  2012-01-13  0.996251  0.987949  ...  0.806726  0.992615  0.995052\n",
              "\n",
              "[2 rows x 10 columns]"
            ]
          },
          "metadata": {
            "tags": []
          },
          "execution_count": 131
        }
      ]
    },
    {
      "cell_type": "code",
      "metadata": {
        "id": "i0-eJzYJREHn",
        "outputId": "27f107f1-e7f2-4213-eff3-acd91ff883b2",
        "colab": {
          "base_uri": "https://localhost:8080/",
          "height": 110
        }
      },
      "source": [
        "for counter, stock in enumerate(dfnstocks.columns[1:]):\n",
        "  dfnstocks[stock] = dfnstocks[stock]*arn1[counter]*1000000\n",
        "dfnstocks.head(2)"
      ],
      "execution_count": null,
      "outputs": [
        {
          "output_type": "execute_result",
          "data": {
            "text/html": [
              "<div>\n",
              "<style scoped>\n",
              "    .dataframe tbody tr th:only-of-type {\n",
              "        vertical-align: middle;\n",
              "    }\n",
              "\n",
              "    .dataframe tbody tr th {\n",
              "        vertical-align: top;\n",
              "    }\n",
              "\n",
              "    .dataframe thead th {\n",
              "        text-align: right;\n",
              "    }\n",
              "</style>\n",
              "<table border=\"1\" class=\"dataframe\">\n",
              "  <thead>\n",
              "    <tr style=\"text-align: right;\">\n",
              "      <th></th>\n",
              "      <th>Date</th>\n",
              "      <th>AAPL</th>\n",
              "      <th>BA</th>\n",
              "      <th>T</th>\n",
              "      <th>MGM</th>\n",
              "      <th>AMZN</th>\n",
              "      <th>IBM</th>\n",
              "      <th>TSLA</th>\n",
              "      <th>GOOG</th>\n",
              "      <th>sp500</th>\n",
              "    </tr>\n",
              "  </thead>\n",
              "  <tbody>\n",
              "    <tr>\n",
              "      <th>0</th>\n",
              "      <td>2012-01-12</td>\n",
              "      <td>109213.000000</td>\n",
              "      <td>120690.00000</td>\n",
              "      <td>6022.00000</td>\n",
              "      <td>36275.000000</td>\n",
              "      <td>144929.000000</td>\n",
              "      <td>176361.000000</td>\n",
              "      <td>64920.000000</td>\n",
              "      <td>188990.000000</td>\n",
              "      <td>152599.000000</td>\n",
              "    </tr>\n",
              "    <tr>\n",
              "      <th>1</th>\n",
              "      <td>2012-01-13</td>\n",
              "      <td>108803.510461</td>\n",
              "      <td>119235.51212</td>\n",
              "      <td>6012.00312</td>\n",
              "      <td>36932.914262</td>\n",
              "      <td>146980.235997</td>\n",
              "      <td>175003.250847</td>\n",
              "      <td>52372.632387</td>\n",
              "      <td>187594.277962</td>\n",
              "      <td>151843.951927</td>\n",
              "    </tr>\n",
              "  </tbody>\n",
              "</table>\n",
              "</div>"
            ],
            "text/plain": [
              "         Date           AAPL  ...           GOOG          sp500\n",
              "0  2012-01-12  109213.000000  ...  188990.000000  152599.000000\n",
              "1  2012-01-13  108803.510461  ...  187594.277962  151843.951927\n",
              "\n",
              "[2 rows x 10 columns]"
            ]
          },
          "metadata": {
            "tags": []
          },
          "execution_count": 132
        }
      ]
    },
    {
      "cell_type": "code",
      "metadata": {
        "id": "XXJkq9IlS4by",
        "outputId": "4d2ce37d-a128-4ab2-ad0f-709108b76ef8",
        "colab": {
          "base_uri": "https://localhost:8080/",
          "height": 110
        }
      },
      "source": [
        ""
      ],
      "execution_count": null,
      "outputs": [
        {
          "output_type": "execute_result",
          "data": {
            "text/html": [
              "<div>\n",
              "<style scoped>\n",
              "    .dataframe tbody tr th:only-of-type {\n",
              "        vertical-align: middle;\n",
              "    }\n",
              "\n",
              "    .dataframe tbody tr th {\n",
              "        vertical-align: top;\n",
              "    }\n",
              "\n",
              "    .dataframe thead th {\n",
              "        text-align: right;\n",
              "    }\n",
              "</style>\n",
              "<table border=\"1\" class=\"dataframe\">\n",
              "  <thead>\n",
              "    <tr style=\"text-align: right;\">\n",
              "      <th></th>\n",
              "      <th>Date</th>\n",
              "      <th>AAPL</th>\n",
              "      <th>BA</th>\n",
              "      <th>T</th>\n",
              "      <th>MGM</th>\n",
              "      <th>AMZN</th>\n",
              "      <th>IBM</th>\n",
              "      <th>TSLA</th>\n",
              "      <th>GOOG</th>\n",
              "      <th>sp500</th>\n",
              "      <th>Daily Worth</th>\n",
              "    </tr>\n",
              "  </thead>\n",
              "  <tbody>\n",
              "    <tr>\n",
              "      <th>0</th>\n",
              "      <td>2012-01-12</td>\n",
              "      <td>109213.000000</td>\n",
              "      <td>120690.00000</td>\n",
              "      <td>6022.00000</td>\n",
              "      <td>36275.000000</td>\n",
              "      <td>144929.000000</td>\n",
              "      <td>176361.000000</td>\n",
              "      <td>64920.000000</td>\n",
              "      <td>188990.000000</td>\n",
              "      <td>152599.000000</td>\n",
              "      <td>1</td>\n",
              "    </tr>\n",
              "    <tr>\n",
              "      <th>1</th>\n",
              "      <td>2012-01-13</td>\n",
              "      <td>108803.510461</td>\n",
              "      <td>119235.51212</td>\n",
              "      <td>6012.00312</td>\n",
              "      <td>36932.914262</td>\n",
              "      <td>146980.235997</td>\n",
              "      <td>175003.250847</td>\n",
              "      <td>52372.632387</td>\n",
              "      <td>187594.277962</td>\n",
              "      <td>151843.951927</td>\n",
              "      <td>1</td>\n",
              "    </tr>\n",
              "  </tbody>\n",
              "</table>\n",
              "</div>"
            ],
            "text/plain": [
              "         Date           AAPL  ...          sp500  Daily Worth\n",
              "0  2012-01-12  109213.000000  ...  152599.000000            1\n",
              "1  2012-01-13  108803.510461  ...  151843.951927            1\n",
              "\n",
              "[2 rows x 11 columns]"
            ]
          },
          "metadata": {
            "tags": []
          },
          "execution_count": 116
        }
      ]
    },
    {
      "cell_type": "code",
      "metadata": {
        "id": "uhVxrjvIWSJX",
        "outputId": "13678473-d254-47ad-e37b-5687b36585f7",
        "colab": {
          "base_uri": "https://localhost:8080/",
          "height": 110
        }
      },
      "source": [
        "x = dfnstocks.drop(columns = ['Date'])\n",
        "dfnstocks['Daily Worth'] = x.sum(axis = 1)\n",
        "dfnstocks.head(2)"
      ],
      "execution_count": null,
      "outputs": [
        {
          "output_type": "execute_result",
          "data": {
            "text/html": [
              "<div>\n",
              "<style scoped>\n",
              "    .dataframe tbody tr th:only-of-type {\n",
              "        vertical-align: middle;\n",
              "    }\n",
              "\n",
              "    .dataframe tbody tr th {\n",
              "        vertical-align: top;\n",
              "    }\n",
              "\n",
              "    .dataframe thead th {\n",
              "        text-align: right;\n",
              "    }\n",
              "</style>\n",
              "<table border=\"1\" class=\"dataframe\">\n",
              "  <thead>\n",
              "    <tr style=\"text-align: right;\">\n",
              "      <th></th>\n",
              "      <th>Date</th>\n",
              "      <th>AAPL</th>\n",
              "      <th>BA</th>\n",
              "      <th>T</th>\n",
              "      <th>MGM</th>\n",
              "      <th>AMZN</th>\n",
              "      <th>IBM</th>\n",
              "      <th>TSLA</th>\n",
              "      <th>GOOG</th>\n",
              "      <th>sp500</th>\n",
              "      <th>Daily Worth</th>\n",
              "    </tr>\n",
              "  </thead>\n",
              "  <tbody>\n",
              "    <tr>\n",
              "      <th>0</th>\n",
              "      <td>2012-01-12</td>\n",
              "      <td>109213.000000</td>\n",
              "      <td>120690.00000</td>\n",
              "      <td>6022.00000</td>\n",
              "      <td>36275.000000</td>\n",
              "      <td>144929.000000</td>\n",
              "      <td>176361.000000</td>\n",
              "      <td>64920.000000</td>\n",
              "      <td>188990.000000</td>\n",
              "      <td>152599.000000</td>\n",
              "      <td>999999.000000</td>\n",
              "    </tr>\n",
              "    <tr>\n",
              "      <th>1</th>\n",
              "      <td>2012-01-13</td>\n",
              "      <td>108803.510461</td>\n",
              "      <td>119235.51212</td>\n",
              "      <td>6012.00312</td>\n",
              "      <td>36932.914262</td>\n",
              "      <td>146980.235997</td>\n",
              "      <td>175003.250847</td>\n",
              "      <td>52372.632387</td>\n",
              "      <td>187594.277962</td>\n",
              "      <td>151843.951927</td>\n",
              "      <td>984778.289084</td>\n",
              "    </tr>\n",
              "  </tbody>\n",
              "</table>\n",
              "</div>"
            ],
            "text/plain": [
              "         Date           AAPL  ...          sp500    Daily Worth\n",
              "0  2012-01-12  109213.000000  ...  152599.000000  999999.000000\n",
              "1  2012-01-13  108803.510461  ...  151843.951927  984778.289084\n",
              "\n",
              "[2 rows x 11 columns]"
            ]
          },
          "metadata": {
            "tags": []
          },
          "execution_count": 133
        }
      ]
    },
    {
      "cell_type": "code",
      "metadata": {
        "id": "5UouSEtdDY_3",
        "outputId": "d8f957e4-8701-41ab-f5ae-72762b126622",
        "colab": {
          "base_uri": "https://localhost:8080/",
          "height": 110
        }
      },
      "source": [
        "dfnstocks['Daily Worth in %'] = 0.0000\n",
        "for i in range(1, len(dfnstocks)):\n",
        "  dfnstocks['Daily Worth in %'][i] = (dfnstocks['Daily Worth'][i] - dfnstocks['Daily Worth'][i-1])/dfnstocks['Daily Worth'][i-1]\n",
        "dfnstocks.head(2)"
      ],
      "execution_count": null,
      "outputs": [
        {
          "output_type": "execute_result",
          "data": {
            "text/html": [
              "<div>\n",
              "<style scoped>\n",
              "    .dataframe tbody tr th:only-of-type {\n",
              "        vertical-align: middle;\n",
              "    }\n",
              "\n",
              "    .dataframe tbody tr th {\n",
              "        vertical-align: top;\n",
              "    }\n",
              "\n",
              "    .dataframe thead th {\n",
              "        text-align: right;\n",
              "    }\n",
              "</style>\n",
              "<table border=\"1\" class=\"dataframe\">\n",
              "  <thead>\n",
              "    <tr style=\"text-align: right;\">\n",
              "      <th></th>\n",
              "      <th>Date</th>\n",
              "      <th>AAPL</th>\n",
              "      <th>BA</th>\n",
              "      <th>T</th>\n",
              "      <th>MGM</th>\n",
              "      <th>AMZN</th>\n",
              "      <th>IBM</th>\n",
              "      <th>TSLA</th>\n",
              "      <th>GOOG</th>\n",
              "      <th>sp500</th>\n",
              "      <th>Daily Worth</th>\n",
              "      <th>Daily Worth in %</th>\n",
              "    </tr>\n",
              "  </thead>\n",
              "  <tbody>\n",
              "    <tr>\n",
              "      <th>0</th>\n",
              "      <td>2012-01-12</td>\n",
              "      <td>109213.000000</td>\n",
              "      <td>120690.00000</td>\n",
              "      <td>6022.00000</td>\n",
              "      <td>36275.000000</td>\n",
              "      <td>144929.000000</td>\n",
              "      <td>176361.000000</td>\n",
              "      <td>64920.000000</td>\n",
              "      <td>188990.000000</td>\n",
              "      <td>152599.000000</td>\n",
              "      <td>999999.000000</td>\n",
              "      <td>0.000000</td>\n",
              "    </tr>\n",
              "    <tr>\n",
              "      <th>1</th>\n",
              "      <td>2012-01-13</td>\n",
              "      <td>108803.510461</td>\n",
              "      <td>119235.51212</td>\n",
              "      <td>6012.00312</td>\n",
              "      <td>36932.914262</td>\n",
              "      <td>146980.235997</td>\n",
              "      <td>175003.250847</td>\n",
              "      <td>52372.632387</td>\n",
              "      <td>187594.277962</td>\n",
              "      <td>151843.951927</td>\n",
              "      <td>984778.289084</td>\n",
              "      <td>-0.015221</td>\n",
              "    </tr>\n",
              "  </tbody>\n",
              "</table>\n",
              "</div>"
            ],
            "text/plain": [
              "         Date           AAPL  ...    Daily Worth  Daily Worth in %\n",
              "0  2012-01-12  109213.000000  ...  999999.000000          0.000000\n",
              "1  2012-01-13  108803.510461  ...  984778.289084         -0.015221\n",
              "\n",
              "[2 rows x 12 columns]"
            ]
          },
          "metadata": {
            "tags": []
          },
          "execution_count": 138
        }
      ]
    },
    {
      "cell_type": "code",
      "metadata": {
        "id": "m9aZjynJDDYA"
      },
      "source": [
        "# Note that enumerate returns the value and a counter as well\n",
        "\n"
      ],
      "execution_count": null,
      "outputs": []
    },
    {
      "cell_type": "code",
      "metadata": {
        "id": "Ly7b_-PAEccl"
      },
      "source": [
        "# Let's create an additional column that contains the sum of all $ values in the portfolio\n"
      ],
      "execution_count": null,
      "outputs": []
    },
    {
      "cell_type": "code",
      "metadata": {
        "id": "ESTlNEIqFFyb"
      },
      "source": [
        "# Let's calculate the portfolio daily return \n",
        "# Define a new column in the dataframe and set it to zeros\n",
        "\n",
        "\n"
      ],
      "execution_count": null,
      "outputs": []
    },
    {
      "cell_type": "markdown",
      "metadata": {
        "id": "fRVJOiB7c9ey"
      },
      "source": [
        "**MINI CHALLENGE #3:** \n",
        "- **Try at least 3 another random weights allocation and rerun the code.** \n",
        "- **Compare the final portfolio value on Aug 11th, 2020 to its initial value ($1M) on January 12th, 2012. Do you notice a big difference? Comment on your answer.**"
      ]
    },
    {
      "cell_type": "code",
      "metadata": {
        "id": "DRlf2k49iBlF"
      },
      "source": [
        ""
      ],
      "execution_count": null,
      "outputs": []
    },
    {
      "cell_type": "markdown",
      "metadata": {
        "id": "5FYcMzJcGWo-"
      },
      "source": [
        "# TASK #5: PORTFOLIO ALLOCATION - DAILY RETURN/WORTH CALCULATION (FUNCTION)"
      ]
    },
    {
      "cell_type": "code",
      "metadata": {
        "id": "1UtoXcsdW4H_",
        "outputId": "fee8c040-e0e8-49fb-eda4-3230a7aa4d20",
        "colab": {
          "base_uri": "https://localhost:8080/",
          "height": 110
        }
      },
      "source": [
        "# Lets assume we have $1,000,000 to be invested and we will allocate this fund based on the weights of the stocks\n",
        "# We will create a function that takes in the stock prices along with the weights and return:\n",
        "# (1) Daily value of each individual securuty in $ over the specified time period\n",
        "# (2) Overall daily worth of the entire portfolio \n",
        "# (3) Daily return \n",
        "\n",
        "def portfolio_alloc(df, ar1):\n",
        "  dfnstocks = normalize(df)\n",
        "  \n",
        "\n",
        "  for counter, stock in enumerate(dfnstocks.columns[1:]):\n",
        "    dfnstocks[stock] = (dfnstocks[stock]*ar1[counter])*1000000\n",
        "    \n",
        "  x = dfnstocks.drop(columns = ['Date'])\n",
        "  dfnstocks['Daily Worth'] = x.sum(axis = 1)\n",
        "  \n",
        "\n",
        "  dfnstocks['Daily Worth in %'] = 0.0000\n",
        "  for i in range(1, len(dfnstocks)):\n",
        "    dfnstocks['Daily Worth in %'][i] = (dfnstocks['Daily Worth'][i] - dfnstocks['Daily Worth'][i-1])/dfnstocks['Daily Worth'][i-1]\n",
        "  dfnstocks['Daily Worth in %'][0] = 0.0000\n",
        "\n",
        "  return dfnstocks\n",
        "\n",
        "\n",
        "np.random.seed(101)\n",
        "ar = np.array(np.random.random(9))\n",
        "arn = ar/np.sum(ar)\n",
        "arn1 = np.round_(arn,6)\n",
        "arn1\n",
        "\n",
        "df_portfolio = portfolio_alloc(dfStocks, arn1)\n",
        "df_portfolio.head(2)\n"
      ],
      "execution_count": 149,
      "outputs": [
        {
          "output_type": "execute_result",
          "data": {
            "text/html": [
              "<div>\n",
              "<style scoped>\n",
              "    .dataframe tbody tr th:only-of-type {\n",
              "        vertical-align: middle;\n",
              "    }\n",
              "\n",
              "    .dataframe tbody tr th {\n",
              "        vertical-align: top;\n",
              "    }\n",
              "\n",
              "    .dataframe thead th {\n",
              "        text-align: right;\n",
              "    }\n",
              "</style>\n",
              "<table border=\"1\" class=\"dataframe\">\n",
              "  <thead>\n",
              "    <tr style=\"text-align: right;\">\n",
              "      <th></th>\n",
              "      <th>Date</th>\n",
              "      <th>AAPL</th>\n",
              "      <th>BA</th>\n",
              "      <th>T</th>\n",
              "      <th>MGM</th>\n",
              "      <th>AMZN</th>\n",
              "      <th>IBM</th>\n",
              "      <th>TSLA</th>\n",
              "      <th>GOOG</th>\n",
              "      <th>sp500</th>\n",
              "      <th>Daily Worth</th>\n",
              "      <th>Daily Worth in %</th>\n",
              "    </tr>\n",
              "  </thead>\n",
              "  <tbody>\n",
              "    <tr>\n",
              "      <th>0</th>\n",
              "      <td>2012-01-12</td>\n",
              "      <td>109213.000000</td>\n",
              "      <td>120690.00000</td>\n",
              "      <td>6022.00000</td>\n",
              "      <td>36275.000000</td>\n",
              "      <td>144929.000000</td>\n",
              "      <td>176361.000000</td>\n",
              "      <td>64920.000000</td>\n",
              "      <td>188990.000000</td>\n",
              "      <td>152599.000000</td>\n",
              "      <td>999999.000000</td>\n",
              "      <td>0.000000</td>\n",
              "    </tr>\n",
              "    <tr>\n",
              "      <th>1</th>\n",
              "      <td>2012-01-13</td>\n",
              "      <td>108803.510461</td>\n",
              "      <td>119235.51212</td>\n",
              "      <td>6012.00312</td>\n",
              "      <td>36932.914262</td>\n",
              "      <td>146980.235997</td>\n",
              "      <td>175003.250847</td>\n",
              "      <td>52372.632387</td>\n",
              "      <td>187594.277962</td>\n",
              "      <td>151843.951927</td>\n",
              "      <td>984778.289084</td>\n",
              "      <td>-0.015221</td>\n",
              "    </tr>\n",
              "  </tbody>\n",
              "</table>\n",
              "</div>"
            ],
            "text/plain": [
              "         Date           AAPL  ...    Daily Worth  Daily Worth in %\n",
              "0  2012-01-12  109213.000000  ...  999999.000000          0.000000\n",
              "1  2012-01-13  108803.510461  ...  984778.289084         -0.015221\n",
              "\n",
              "[2 rows x 12 columns]"
            ]
          },
          "metadata": {
            "tags": []
          },
          "execution_count": 149
        }
      ]
    },
    {
      "cell_type": "markdown",
      "metadata": {
        "id": "V9Ouphi3iIyG"
      },
      "source": [
        "**MINI CHALLENGE #4:**\n",
        "- **Call the function and ensure that the results make sense**"
      ]
    },
    {
      "cell_type": "code",
      "metadata": {
        "id": "XGpuUb1-iiJ_"
      },
      "source": [
        ""
      ],
      "execution_count": null,
      "outputs": []
    },
    {
      "cell_type": "markdown",
      "metadata": {
        "id": "QaaDNPBKeR3B"
      },
      "source": [
        "# TASK #6: PERFORM PORTFOLIO DATA VISUALIZATION"
      ]
    },
    {
      "cell_type": "code",
      "metadata": {
        "id": "puoioqEbf-1l"
      },
      "source": [
        "# Plot the portfolio daily return\n"
      ],
      "execution_count": null,
      "outputs": []
    },
    {
      "cell_type": "code",
      "metadata": {
        "id": "vPqNoj1Eu8Uf"
      },
      "source": [
        "# Plot all stocks (normalized)\n",
        "\n"
      ],
      "execution_count": null,
      "outputs": []
    },
    {
      "cell_type": "code",
      "metadata": {
        "id": "dvZgEqmrcMSW"
      },
      "source": [
        "# Print out a histogram of daily returns\n"
      ],
      "execution_count": null,
      "outputs": []
    },
    {
      "cell_type": "markdown",
      "metadata": {
        "id": "6Kc7ehObjsMw"
      },
      "source": [
        "**MINI CHALLENGE #5:** \n",
        "- **Plot the portfolio overall daily worth vs. time.**\n",
        "- **Rerun the code with various weights and visualize the final value.** "
      ]
    },
    {
      "cell_type": "code",
      "metadata": {
        "id": "lqj1T2fpkEOH",
        "outputId": "f4ea71ac-d847-4fb3-cca9-549a4f44f842",
        "colab": {
          "base_uri": "https://localhost:8080/",
          "height": 542
        }
      },
      "source": [
        "fig = px.line(x= df_portfolio['Date'], y= df_portfolio['Daily Worth'] , title=\"portfolio overall daily worth vs. time\")\n",
        "fig.show()"
      ],
      "execution_count": 150,
      "outputs": [
        {
          "output_type": "display_data",
          "data": {
            "text/html": [
              "<html>\n",
              "<head><meta charset=\"utf-8\" /></head>\n",
              "<body>\n",
              "    <div>\n",
              "            <script src=\"https://cdnjs.cloudflare.com/ajax/libs/mathjax/2.7.5/MathJax.js?config=TeX-AMS-MML_SVG\"></script><script type=\"text/javascript\">if (window.MathJax) {MathJax.Hub.Config({SVG: {font: \"STIX-Web\"}});}</script>\n",
              "                <script type=\"text/javascript\">window.PlotlyConfig = {MathJaxConfig: 'local'};</script>\n",
              "        <script src=\"https://cdn.plot.ly/plotly-latest.min.js\"></script>    \n",
              "            <div id=\"70c7eb5a-3a53-4c56-b908-e76410603102\" class=\"plotly-graph-div\" style=\"height:525px; width:100%;\"></div>\n",
              "            <script type=\"text/javascript\">\n",
              "                \n",
              "                    window.PLOTLYENV=window.PLOTLYENV || {};\n",
              "                    \n",
              "                if (document.getElementById(\"70c7eb5a-3a53-4c56-b908-e76410603102\")) {\n",
              "                    Plotly.newPlot(\n",
              "                        '70c7eb5a-3a53-4c56-b908-e76410603102',\n",
              "                        [{\"hoverlabel\": {\"namelength\": 0}, \"hovertemplate\": \"x=%{x}<br>y=%{y}\", \"legendgroup\": \"\", \"line\": {\"color\": \"#636efa\", \"dash\": \"solid\"}, \"mode\": \"lines\", \"name\": \"\", \"showlegend\": false, \"type\": \"scattergl\", \"x\": [\"2012-01-12\", \"2012-01-13\", \"2012-01-17\", \"2012-01-18\", \"2012-01-19\", \"2012-01-20\", \"2012-01-23\", \"2012-01-24\", \"2012-01-25\", \"2012-01-26\", \"2012-01-27\", \"2012-01-30\", \"2012-01-31\", \"2012-02-01\", \"2012-02-02\", \"2012-02-03\", \"2012-02-06\", \"2012-02-07\", \"2012-02-08\", \"2012-02-09\", \"2012-02-10\", \"2012-02-13\", \"2012-02-14\", \"2012-02-15\", \"2012-02-16\", \"2012-02-17\", \"2012-02-21\", \"2012-02-22\", \"2012-02-23\", \"2012-02-24\", \"2012-02-27\", \"2012-02-28\", \"2012-02-29\", \"2012-03-01\", \"2012-03-02\", \"2012-03-05\", \"2012-03-06\", \"2012-03-07\", \"2012-03-08\", \"2012-03-09\", \"2012-03-12\", \"2012-03-13\", \"2012-03-14\", \"2012-03-15\", \"2012-03-16\", \"2012-03-19\", \"2012-03-20\", \"2012-03-21\", \"2012-03-22\", \"2012-03-23\", \"2012-03-26\", \"2012-03-27\", \"2012-03-28\", \"2012-03-29\", \"2012-03-30\", \"2012-04-02\", \"2012-04-03\", \"2012-04-04\", \"2012-04-05\", \"2012-04-09\", \"2012-04-10\", \"2012-04-11\", \"2012-04-12\", \"2012-04-13\", \"2012-04-16\", \"2012-04-17\", \"2012-04-18\", \"2012-04-19\", \"2012-04-20\", \"2012-04-23\", \"2012-04-24\", \"2012-04-25\", \"2012-04-26\", \"2012-04-27\", \"2012-04-30\", \"2012-05-01\", \"2012-05-02\", \"2012-05-03\", \"2012-05-04\", \"2012-05-07\", \"2012-05-08\", \"2012-05-09\", \"2012-05-10\", \"2012-05-11\", \"2012-05-14\", \"2012-05-15\", \"2012-05-16\", \"2012-05-17\", \"2012-05-18\", \"2012-05-21\", \"2012-05-22\", \"2012-05-23\", \"2012-05-24\", \"2012-05-25\", \"2012-05-29\", \"2012-05-30\", \"2012-05-31\", \"2012-06-01\", \"2012-06-04\", \"2012-06-05\", \"2012-06-06\", \"2012-06-07\", \"2012-06-08\", \"2012-06-11\", \"2012-06-12\", \"2012-06-13\", \"2012-06-14\", \"2012-06-15\", \"2012-06-18\", \"2012-06-19\", \"2012-06-20\", \"2012-06-21\", \"2012-06-22\", \"2012-06-25\", \"2012-06-26\", \"2012-06-27\", \"2012-06-28\", \"2012-06-29\", \"2012-07-02\", \"2012-07-03\", \"2012-07-05\", \"2012-07-06\", \"2012-07-09\", \"2012-07-10\", \"2012-07-11\", \"2012-07-12\", \"2012-07-13\", \"2012-07-16\", \"2012-07-17\", \"2012-07-18\", \"2012-07-19\", \"2012-07-20\", \"2012-07-23\", \"2012-07-24\", \"2012-07-25\", \"2012-07-26\", \"2012-07-27\", \"2012-07-30\", \"2012-07-31\", \"2012-08-01\", \"2012-08-02\", \"2012-08-03\", \"2012-08-06\", \"2012-08-07\", \"2012-08-08\", \"2012-08-09\", \"2012-08-10\", \"2012-08-13\", \"2012-08-14\", \"2012-08-15\", \"2012-08-16\", \"2012-08-17\", \"2012-08-20\", \"2012-08-21\", \"2012-08-22\", \"2012-08-23\", \"2012-08-24\", \"2012-08-27\", \"2012-08-28\", \"2012-08-29\", \"2012-08-30\", \"2012-08-31\", \"2012-09-04\", \"2012-09-05\", \"2012-09-06\", \"2012-09-07\", \"2012-09-10\", \"2012-09-11\", \"2012-09-12\", \"2012-09-13\", \"2012-09-14\", \"2012-09-17\", \"2012-09-18\", \"2012-09-19\", \"2012-09-20\", \"2012-09-21\", \"2012-09-24\", \"2012-09-25\", \"2012-09-26\", \"2012-09-27\", \"2012-09-28\", \"2012-10-01\", \"2012-10-02\", \"2012-10-03\", \"2012-10-04\", \"2012-10-05\", \"2012-10-08\", \"2012-10-09\", \"2012-10-10\", \"2012-10-11\", \"2012-10-12\", \"2012-10-15\", \"2012-10-16\", \"2012-10-17\", \"2012-10-18\", \"2012-10-19\", \"2012-10-22\", \"2012-10-23\", \"2012-10-24\", \"2012-10-25\", \"2012-10-26\", \"2012-10-31\", \"2012-11-01\", \"2012-11-02\", \"2012-11-05\", \"2012-11-06\", \"2012-11-07\", \"2012-11-08\", \"2012-11-09\", \"2012-11-12\", \"2012-11-13\", \"2012-11-14\", \"2012-11-15\", \"2012-11-16\", \"2012-11-19\", \"2012-11-20\", \"2012-11-21\", \"2012-11-23\", \"2012-11-26\", \"2012-11-27\", \"2012-11-28\", \"2012-11-29\", \"2012-11-30\", \"2012-12-03\", \"2012-12-04\", \"2012-12-05\", \"2012-12-06\", \"2012-12-07\", \"2012-12-10\", \"2012-12-11\", \"2012-12-12\", \"2012-12-13\", \"2012-12-14\", \"2012-12-17\", \"2012-12-18\", \"2012-12-19\", \"2012-12-20\", \"2012-12-21\", \"2012-12-24\", \"2012-12-26\", \"2012-12-27\", \"2012-12-28\", \"2012-12-31\", \"2013-01-02\", \"2013-01-03\", \"2013-01-04\", \"2013-01-07\", \"2013-01-08\", \"2013-01-09\", \"2013-01-10\", \"2013-01-11\", \"2013-01-14\", \"2013-01-15\", \"2013-01-16\", \"2013-01-17\", \"2013-01-18\", \"2013-01-22\", \"2013-01-23\", \"2013-01-24\", \"2013-01-25\", \"2013-01-28\", \"2013-01-29\", \"2013-01-30\", \"2013-01-31\", \"2013-02-01\", \"2013-02-04\", \"2013-02-05\", \"2013-02-06\", \"2013-02-07\", \"2013-02-08\", \"2013-02-11\", \"2013-02-12\", \"2013-02-13\", \"2013-02-14\", \"2013-02-15\", \"2013-02-19\", \"2013-02-20\", \"2013-02-21\", \"2013-02-22\", \"2013-02-25\", \"2013-02-26\", \"2013-02-27\", \"2013-02-28\", \"2013-03-01\", \"2013-03-04\", \"2013-03-05\", \"2013-03-06\", \"2013-03-07\", \"2013-03-08\", \"2013-03-11\", \"2013-03-12\", \"2013-03-13\", \"2013-03-14\", \"2013-03-15\", \"2013-03-18\", \"2013-03-19\", \"2013-03-20\", \"2013-03-21\", \"2013-03-22\", \"2013-03-25\", \"2013-03-26\", \"2013-03-27\", \"2013-03-28\", \"2013-04-01\", \"2013-04-02\", \"2013-04-03\", \"2013-04-04\", \"2013-04-05\", \"2013-04-08\", \"2013-04-09\", \"2013-04-10\", \"2013-04-11\", \"2013-04-12\", \"2013-04-15\", \"2013-04-16\", \"2013-04-17\", \"2013-04-18\", \"2013-04-19\", \"2013-04-22\", \"2013-04-23\", \"2013-04-24\", \"2013-04-25\", \"2013-04-26\", \"2013-04-29\", \"2013-04-30\", \"2013-05-01\", \"2013-05-02\", \"2013-05-03\", \"2013-05-06\", \"2013-05-07\", \"2013-05-08\", \"2013-05-09\", \"2013-05-10\", \"2013-05-13\", \"2013-05-14\", \"2013-05-15\", \"2013-05-16\", \"2013-05-17\", \"2013-05-20\", \"2013-05-21\", \"2013-05-22\", \"2013-05-23\", \"2013-05-24\", \"2013-05-28\", \"2013-05-29\", \"2013-05-30\", \"2013-05-31\", \"2013-06-03\", \"2013-06-04\", \"2013-06-05\", \"2013-06-06\", \"2013-06-07\", \"2013-06-10\", \"2013-06-11\", \"2013-06-12\", \"2013-06-13\", \"2013-06-14\", \"2013-06-17\", \"2013-06-18\", \"2013-06-19\", \"2013-06-20\", \"2013-06-21\", \"2013-06-24\", \"2013-06-25\", \"2013-06-26\", \"2013-06-27\", \"2013-06-28\", \"2013-07-01\", \"2013-07-02\", \"2013-07-03\", \"2013-07-05\", \"2013-07-08\", \"2013-07-09\", \"2013-07-10\", \"2013-07-11\", \"2013-07-12\", \"2013-07-15\", \"2013-07-16\", \"2013-07-17\", \"2013-07-18\", \"2013-07-19\", \"2013-07-22\", \"2013-07-23\", \"2013-07-24\", \"2013-07-25\", \"2013-07-26\", \"2013-07-29\", \"2013-07-30\", \"2013-07-31\", \"2013-08-01\", \"2013-08-02\", \"2013-08-05\", \"2013-08-06\", \"2013-08-07\", \"2013-08-08\", \"2013-08-09\", \"2013-08-12\", \"2013-08-13\", \"2013-08-14\", \"2013-08-15\", \"2013-08-16\", \"2013-08-19\", \"2013-08-20\", \"2013-08-21\", \"2013-08-22\", \"2013-08-23\", \"2013-08-26\", \"2013-08-27\", \"2013-08-28\", \"2013-08-29\", \"2013-08-30\", \"2013-09-03\", \"2013-09-04\", \"2013-09-05\", \"2013-09-06\", \"2013-09-09\", \"2013-09-10\", \"2013-09-11\", \"2013-09-12\", \"2013-09-13\", \"2013-09-16\", \"2013-09-17\", \"2013-09-18\", \"2013-09-19\", \"2013-09-20\", \"2013-09-23\", \"2013-09-24\", \"2013-09-25\", \"2013-09-26\", \"2013-09-27\", \"2013-09-30\", \"2013-10-01\", \"2013-10-02\", \"2013-10-03\", \"2013-10-04\", \"2013-10-07\", \"2013-10-08\", \"2013-10-09\", \"2013-10-10\", \"2013-10-11\", \"2013-10-14\", \"2013-10-15\", \"2013-10-16\", \"2013-10-17\", \"2013-10-18\", \"2013-10-21\", \"2013-10-22\", \"2013-10-23\", \"2013-10-24\", \"2013-10-25\", \"2013-10-28\", \"2013-10-29\", \"2013-10-30\", \"2013-10-31\", \"2013-11-01\", \"2013-11-04\", \"2013-11-05\", \"2013-11-06\", \"2013-11-07\", \"2013-11-08\", \"2013-11-11\", \"2013-11-12\", \"2013-11-13\", \"2013-11-14\", \"2013-11-15\", \"2013-11-18\", \"2013-11-19\", \"2013-11-20\", \"2013-11-21\", \"2013-11-22\", \"2013-11-25\", \"2013-11-26\", \"2013-11-27\", \"2013-11-29\", \"2013-12-02\", \"2013-12-03\", \"2013-12-04\", \"2013-12-05\", \"2013-12-06\", \"2013-12-09\", \"2013-12-10\", \"2013-12-11\", \"2013-12-12\", \"2013-12-13\", \"2013-12-16\", \"2013-12-17\", \"2013-12-18\", \"2013-12-19\", \"2013-12-20\", \"2013-12-23\", \"2013-12-24\", \"2013-12-26\", \"2013-12-27\", \"2013-12-30\", \"2013-12-31\", \"2014-01-02\", \"2014-01-03\", \"2014-01-06\", \"2014-01-07\", \"2014-01-08\", \"2014-01-09\", \"2014-01-10\", \"2014-01-13\", \"2014-01-14\", \"2014-01-15\", \"2014-01-16\", \"2014-01-17\", \"2014-01-21\", \"2014-01-22\", \"2014-01-23\", \"2014-01-24\", \"2014-01-27\", \"2014-01-28\", \"2014-01-29\", \"2014-01-30\", \"2014-01-31\", \"2014-02-03\", \"2014-02-04\", \"2014-02-05\", \"2014-02-06\", \"2014-02-07\", \"2014-02-10\", \"2014-02-11\", \"2014-02-12\", \"2014-02-13\", \"2014-02-14\", \"2014-02-18\", \"2014-02-19\", \"2014-02-20\", \"2014-02-21\", \"2014-02-24\", \"2014-02-25\", \"2014-02-26\", \"2014-02-27\", \"2014-02-28\", \"2014-03-03\", \"2014-03-04\", \"2014-03-05\", \"2014-03-06\", \"2014-03-07\", \"2014-03-10\", \"2014-03-11\", \"2014-03-12\", \"2014-03-13\", \"2014-03-14\", \"2014-03-17\", \"2014-03-18\", \"2014-03-19\", \"2014-03-20\", \"2014-03-21\", \"2014-03-24\", \"2014-03-25\", \"2014-03-26\", \"2014-03-27\", \"2014-03-28\", \"2014-03-31\", \"2014-04-01\", \"2014-04-02\", \"2014-04-03\", \"2014-04-04\", \"2014-04-07\", \"2014-04-08\", \"2014-04-09\", \"2014-04-10\", \"2014-04-11\", \"2014-04-14\", \"2014-04-15\", \"2014-04-16\", \"2014-04-17\", \"2014-04-21\", \"2014-04-22\", \"2014-04-23\", \"2014-04-24\", \"2014-04-25\", \"2014-04-28\", \"2014-04-29\", \"2014-04-30\", \"2014-05-01\", \"2014-05-02\", \"2014-05-05\", \"2014-05-06\", \"2014-05-07\", \"2014-05-08\", \"2014-05-09\", \"2014-05-12\", \"2014-05-13\", \"2014-05-14\", \"2014-05-15\", \"2014-05-16\", \"2014-05-19\", \"2014-05-20\", \"2014-05-21\", \"2014-05-22\", \"2014-05-23\", \"2014-05-27\", \"2014-05-28\", \"2014-05-29\", \"2014-05-30\", \"2014-06-02\", \"2014-06-03\", \"2014-06-04\", \"2014-06-05\", \"2014-06-06\", \"2014-06-09\", \"2014-06-10\", \"2014-06-11\", \"2014-06-12\", \"2014-06-13\", \"2014-06-16\", \"2014-06-17\", \"2014-06-18\", \"2014-06-19\", \"2014-06-20\", \"2014-06-23\", \"2014-06-24\", \"2014-06-25\", \"2014-06-26\", \"2014-06-27\", \"2014-06-30\", \"2014-07-01\", \"2014-07-02\", \"2014-07-03\", \"2014-07-07\", \"2014-07-08\", \"2014-07-09\", \"2014-07-10\", \"2014-07-11\", \"2014-07-14\", \"2014-07-15\", \"2014-07-16\", \"2014-07-17\", \"2014-07-18\", \"2014-07-21\", \"2014-07-22\", \"2014-07-23\", \"2014-07-24\", \"2014-07-25\", \"2014-07-28\", \"2014-07-29\", \"2014-07-30\", \"2014-07-31\", \"2014-08-01\", \"2014-08-04\", \"2014-08-05\", \"2014-08-06\", \"2014-08-07\", \"2014-08-08\", \"2014-08-11\", \"2014-08-12\", \"2014-08-13\", \"2014-08-14\", \"2014-08-15\", \"2014-08-18\", \"2014-08-19\", \"2014-08-20\", \"2014-08-21\", \"2014-08-22\", \"2014-08-25\", \"2014-08-26\", \"2014-08-27\", \"2014-08-28\", \"2014-08-29\", \"2014-09-02\", \"2014-09-03\", \"2014-09-04\", \"2014-09-05\", \"2014-09-08\", \"2014-09-09\", \"2014-09-10\", \"2014-09-11\", \"2014-09-12\", \"2014-09-15\", \"2014-09-16\", \"2014-09-17\", \"2014-09-18\", \"2014-09-19\", \"2014-09-22\", \"2014-09-23\", \"2014-09-24\", \"2014-09-25\", \"2014-09-26\", \"2014-09-29\", \"2014-09-30\", \"2014-10-01\", \"2014-10-02\", \"2014-10-03\", \"2014-10-06\", \"2014-10-07\", \"2014-10-08\", \"2014-10-09\", \"2014-10-10\", \"2014-10-13\", \"2014-10-14\", \"2014-10-15\", \"2014-10-16\", \"2014-10-17\", \"2014-10-20\", \"2014-10-21\", \"2014-10-22\", \"2014-10-23\", \"2014-10-24\", \"2014-10-27\", \"2014-10-28\", \"2014-10-29\", \"2014-10-30\", \"2014-10-31\", \"2014-11-03\", \"2014-11-04\", \"2014-11-05\", \"2014-11-06\", \"2014-11-07\", \"2014-11-10\", \"2014-11-11\", \"2014-11-12\", \"2014-11-13\", \"2014-11-14\", \"2014-11-17\", \"2014-11-18\", \"2014-11-19\", \"2014-11-20\", \"2014-11-21\", \"2014-11-24\", \"2014-11-25\", \"2014-11-26\", \"2014-11-28\", \"2014-12-01\", \"2014-12-02\", \"2014-12-03\", \"2014-12-04\", \"2014-12-05\", \"2014-12-08\", \"2014-12-09\", \"2014-12-10\", \"2014-12-11\", \"2014-12-12\", \"2014-12-15\", \"2014-12-16\", \"2014-12-17\", \"2014-12-18\", \"2014-12-19\", \"2014-12-22\", \"2014-12-23\", \"2014-12-24\", \"2014-12-26\", \"2014-12-29\", \"2014-12-30\", \"2014-12-31\", \"2015-01-02\", \"2015-01-05\", \"2015-01-06\", \"2015-01-07\", \"2015-01-08\", \"2015-01-09\", \"2015-01-12\", \"2015-01-13\", \"2015-01-14\", \"2015-01-15\", \"2015-01-16\", \"2015-01-20\", \"2015-01-21\", \"2015-01-22\", \"2015-01-23\", \"2015-01-26\", \"2015-01-27\", \"2015-01-28\", \"2015-01-29\", \"2015-01-30\", \"2015-02-02\", \"2015-02-03\", \"2015-02-04\", \"2015-02-05\", \"2015-02-06\", \"2015-02-09\", \"2015-02-10\", \"2015-02-11\", \"2015-02-12\", \"2015-02-13\", \"2015-02-17\", \"2015-02-18\", \"2015-02-19\", \"2015-02-20\", \"2015-02-23\", \"2015-02-24\", \"2015-02-25\", \"2015-02-26\", \"2015-02-27\", \"2015-03-02\", \"2015-03-03\", \"2015-03-04\", \"2015-03-05\", \"2015-03-06\", \"2015-03-09\", \"2015-03-10\", \"2015-03-11\", \"2015-03-12\", \"2015-03-13\", \"2015-03-16\", \"2015-03-17\", \"2015-03-18\", \"2015-03-19\", \"2015-03-20\", \"2015-03-23\", \"2015-03-24\", \"2015-03-25\", \"2015-03-26\", \"2015-03-27\", \"2015-03-30\", \"2015-03-31\", \"2015-04-01\", \"2015-04-02\", \"2015-04-06\", \"2015-04-07\", \"2015-04-08\", \"2015-04-09\", \"2015-04-10\", \"2015-04-13\", \"2015-04-14\", \"2015-04-15\", \"2015-04-16\", \"2015-04-17\", \"2015-04-20\", \"2015-04-21\", \"2015-04-22\", \"2015-04-23\", \"2015-04-24\", \"2015-04-27\", \"2015-04-28\", \"2015-04-29\", \"2015-04-30\", \"2015-05-01\", \"2015-05-04\", \"2015-05-05\", \"2015-05-06\", \"2015-05-07\", \"2015-05-08\", \"2015-05-11\", \"2015-05-12\", \"2015-05-13\", \"2015-05-14\", \"2015-05-15\", \"2015-05-18\", \"2015-05-19\", \"2015-05-20\", \"2015-05-21\", \"2015-05-22\", \"2015-05-26\", \"2015-05-27\", \"2015-05-28\", \"2015-05-29\", \"2015-06-01\", \"2015-06-02\", \"2015-06-03\", \"2015-06-04\", \"2015-06-05\", \"2015-06-08\", \"2015-06-09\", \"2015-06-10\", \"2015-06-11\", \"2015-06-12\", \"2015-06-15\", \"2015-06-16\", \"2015-06-17\", \"2015-06-18\", \"2015-06-19\", \"2015-06-22\", \"2015-06-23\", \"2015-06-24\", \"2015-06-25\", \"2015-06-26\", \"2015-06-29\", \"2015-06-30\", \"2015-07-01\", \"2015-07-02\", \"2015-07-06\", \"2015-07-07\", \"2015-07-08\", \"2015-07-09\", \"2015-07-10\", \"2015-07-13\", \"2015-07-14\", \"2015-07-15\", \"2015-07-16\", \"2015-07-17\", \"2015-07-20\", \"2015-07-21\", \"2015-07-22\", \"2015-07-23\", \"2015-07-24\", \"2015-07-27\", \"2015-07-28\", \"2015-07-29\", \"2015-07-30\", \"2015-07-31\", \"2015-08-03\", \"2015-08-04\", \"2015-08-05\", \"2015-08-06\", \"2015-08-07\", \"2015-08-10\", \"2015-08-11\", \"2015-08-12\", \"2015-08-13\", \"2015-08-14\", \"2015-08-17\", \"2015-08-18\", \"2015-08-19\", \"2015-08-20\", \"2015-08-21\", \"2015-08-24\", \"2015-08-25\", \"2015-08-26\", \"2015-08-27\", \"2015-08-28\", \"2015-08-31\", \"2015-09-01\", \"2015-09-02\", \"2015-09-03\", \"2015-09-04\", \"2015-09-08\", \"2015-09-09\", \"2015-09-10\", \"2015-09-11\", \"2015-09-14\", \"2015-09-15\", \"2015-09-16\", \"2015-09-17\", \"2015-09-18\", \"2015-09-21\", \"2015-09-22\", \"2015-09-23\", \"2015-09-24\", \"2015-09-25\", \"2015-09-28\", \"2015-09-29\", \"2015-09-30\", \"2015-10-01\", \"2015-10-02\", \"2015-10-05\", \"2015-10-06\", \"2015-10-07\", \"2015-10-08\", \"2015-10-09\", \"2015-10-12\", \"2015-10-13\", \"2015-10-14\", \"2015-10-15\", \"2015-10-16\", \"2015-10-19\", \"2015-10-20\", \"2015-10-21\", \"2015-10-22\", \"2015-10-23\", \"2015-10-26\", \"2015-10-27\", \"2015-10-28\", \"2015-10-29\", \"2015-10-30\", \"2015-11-02\", \"2015-11-03\", \"2015-11-04\", \"2015-11-05\", \"2015-11-06\", \"2015-11-09\", \"2015-11-10\", \"2015-11-11\", \"2015-11-12\", \"2015-11-13\", \"2015-11-16\", \"2015-11-17\", \"2015-11-18\", \"2015-11-19\", \"2015-11-20\", \"2015-11-23\", \"2015-11-24\", \"2015-11-25\", \"2015-11-27\", \"2015-11-30\", \"2015-12-01\", \"2015-12-02\", \"2015-12-03\", \"2015-12-04\", \"2015-12-07\", \"2015-12-08\", \"2015-12-09\", \"2015-12-10\", \"2015-12-11\", \"2015-12-14\", \"2015-12-15\", \"2015-12-16\", \"2015-12-17\", \"2015-12-18\", \"2015-12-21\", \"2015-12-22\", \"2015-12-23\", \"2015-12-24\", \"2015-12-28\", \"2015-12-29\", \"2015-12-30\", \"2015-12-31\", \"2016-01-04\", \"2016-01-05\", \"2016-01-06\", \"2016-01-07\", \"2016-01-08\", \"2016-01-11\", \"2016-01-12\", \"2016-01-13\", \"2016-01-14\", \"2016-01-15\", \"2016-01-19\", \"2016-01-20\", \"2016-01-21\", \"2016-01-22\", \"2016-01-25\", \"2016-01-26\", \"2016-01-27\", \"2016-01-28\", \"2016-01-29\", \"2016-02-01\", \"2016-02-02\", \"2016-02-03\", \"2016-02-04\", \"2016-02-05\", \"2016-02-08\", \"2016-02-09\", \"2016-02-10\", \"2016-02-11\", \"2016-02-12\", \"2016-02-16\", \"2016-02-17\", \"2016-02-18\", \"2016-02-19\", \"2016-02-22\", \"2016-02-23\", \"2016-02-24\", \"2016-02-25\", \"2016-02-26\", \"2016-02-29\", \"2016-03-01\", \"2016-03-02\", \"2016-03-03\", \"2016-03-04\", \"2016-03-07\", \"2016-03-08\", \"2016-03-09\", \"2016-03-10\", \"2016-03-11\", \"2016-03-14\", \"2016-03-15\", \"2016-03-16\", \"2016-03-17\", \"2016-03-18\", \"2016-03-21\", \"2016-03-22\", \"2016-03-23\", \"2016-03-24\", \"2016-03-28\", \"2016-03-29\", \"2016-03-30\", \"2016-03-31\", \"2016-04-01\", \"2016-04-04\", \"2016-04-05\", \"2016-04-06\", \"2016-04-07\", \"2016-04-08\", \"2016-04-11\", \"2016-04-12\", \"2016-04-13\", \"2016-04-14\", \"2016-04-15\", \"2016-04-18\", \"2016-04-19\", \"2016-04-20\", \"2016-04-21\", \"2016-04-22\", \"2016-04-25\", \"2016-04-26\", \"2016-04-27\", \"2016-04-28\", \"2016-04-29\", \"2016-05-02\", \"2016-05-03\", \"2016-05-04\", \"2016-05-05\", \"2016-05-06\", \"2016-05-09\", \"2016-05-10\", \"2016-05-11\", \"2016-05-12\", \"2016-05-13\", \"2016-05-16\", \"2016-05-17\", \"2016-05-18\", \"2016-05-19\", \"2016-05-20\", \"2016-05-23\", \"2016-05-24\", \"2016-05-25\", \"2016-05-26\", \"2016-05-27\", \"2016-05-31\", \"2016-06-01\", \"2016-06-02\", \"2016-06-03\", \"2016-06-06\", \"2016-06-07\", \"2016-06-08\", \"2016-06-09\", \"2016-06-10\", \"2016-06-13\", \"2016-06-14\", \"2016-06-15\", \"2016-06-16\", \"2016-06-17\", \"2016-06-20\", \"2016-06-21\", \"2016-06-22\", \"2016-06-23\", \"2016-06-24\", \"2016-06-27\", \"2016-06-28\", \"2016-06-29\", \"2016-06-30\", \"2016-07-01\", \"2016-07-05\", \"2016-07-06\", \"2016-07-07\", \"2016-07-08\", \"2016-07-11\", \"2016-07-12\", \"2016-07-13\", \"2016-07-14\", \"2016-07-15\", \"2016-07-18\", \"2016-07-19\", \"2016-07-20\", \"2016-07-21\", \"2016-07-22\", \"2016-07-25\", \"2016-07-26\", \"2016-07-27\", \"2016-07-28\", \"2016-07-29\", \"2016-08-01\", \"2016-08-02\", \"2016-08-03\", \"2016-08-04\", \"2016-08-05\", \"2016-08-08\", \"2016-08-09\", \"2016-08-10\", \"2016-08-11\", \"2016-08-12\", \"2016-08-15\", \"2016-08-16\", \"2016-08-17\", \"2016-08-18\", \"2016-08-19\", \"2016-08-22\", \"2016-08-23\", \"2016-08-24\", \"2016-08-25\", \"2016-08-26\", \"2016-08-29\", \"2016-08-30\", \"2016-08-31\", \"2016-09-01\", \"2016-09-02\", \"2016-09-06\", \"2016-09-07\", \"2016-09-08\", \"2016-09-09\", \"2016-09-12\", \"2016-09-13\", \"2016-09-14\", \"2016-09-15\", \"2016-09-16\", \"2016-09-19\", \"2016-09-20\", \"2016-09-21\", \"2016-09-22\", \"2016-09-23\", \"2016-09-26\", \"2016-09-27\", \"2016-09-28\", \"2016-09-29\", \"2016-09-30\", \"2016-10-03\", \"2016-10-04\", \"2016-10-05\", \"2016-10-06\", \"2016-10-07\", \"2016-10-10\", \"2016-10-11\", \"2016-10-12\", \"2016-10-13\", \"2016-10-14\", \"2016-10-17\", \"2016-10-18\", \"2016-10-19\", \"2016-10-20\", \"2016-10-21\", \"2016-10-24\", \"2016-10-25\", \"2016-10-26\", \"2016-10-27\", \"2016-10-28\", \"2016-10-31\", \"2016-11-01\", \"2016-11-02\", \"2016-11-03\", \"2016-11-04\", \"2016-11-07\", \"2016-11-08\", \"2016-11-09\", \"2016-11-10\", \"2016-11-11\", \"2016-11-14\", \"2016-11-15\", \"2016-11-16\", \"2016-11-17\", \"2016-11-18\", \"2016-11-21\", \"2016-11-22\", \"2016-11-23\", \"2016-11-25\", \"2016-11-28\", \"2016-11-29\", \"2016-11-30\", \"2016-12-01\", \"2016-12-02\", \"2016-12-05\", \"2016-12-06\", \"2016-12-07\", \"2016-12-08\", \"2016-12-09\", \"2016-12-12\", \"2016-12-13\", \"2016-12-14\", \"2016-12-15\", \"2016-12-16\", \"2016-12-19\", \"2016-12-20\", \"2016-12-21\", \"2016-12-22\", \"2016-12-23\", \"2016-12-27\", \"2016-12-28\", \"2016-12-29\", \"2016-12-30\", \"2017-01-03\", \"2017-01-04\", \"2017-01-05\", \"2017-01-06\", \"2017-01-09\", \"2017-01-10\", \"2017-01-11\", \"2017-01-12\", \"2017-01-13\", \"2017-01-17\", \"2017-01-18\", \"2017-01-19\", \"2017-01-20\", \"2017-01-23\", \"2017-01-24\", \"2017-01-25\", \"2017-01-26\", \"2017-01-27\", \"2017-01-30\", \"2017-01-31\", \"2017-02-01\", \"2017-02-02\", \"2017-02-03\", \"2017-02-06\", \"2017-02-07\", \"2017-02-08\", \"2017-02-09\", \"2017-02-10\", \"2017-02-13\", \"2017-02-14\", \"2017-02-15\", \"2017-02-16\", \"2017-02-17\", \"2017-02-21\", \"2017-02-22\", \"2017-02-23\", \"2017-02-24\", \"2017-02-27\", \"2017-02-28\", \"2017-03-01\", \"2017-03-02\", \"2017-03-03\", \"2017-03-06\", \"2017-03-07\", \"2017-03-08\", \"2017-03-09\", \"2017-03-10\", \"2017-03-13\", \"2017-03-14\", \"2017-03-15\", \"2017-03-16\", \"2017-03-17\", \"2017-03-20\", \"2017-03-21\", \"2017-03-22\", \"2017-03-23\", \"2017-03-24\", \"2017-03-27\", \"2017-03-28\", \"2017-03-29\", \"2017-03-30\", \"2017-03-31\", \"2017-04-03\", \"2017-04-04\", \"2017-04-05\", \"2017-04-06\", \"2017-04-07\", \"2017-04-10\", \"2017-04-11\", \"2017-04-12\", \"2017-04-13\", \"2017-04-17\", \"2017-04-18\", \"2017-04-19\", \"2017-04-20\", \"2017-04-21\", \"2017-04-24\", \"2017-04-25\", \"2017-04-26\", \"2017-04-27\", \"2017-04-28\", \"2017-05-01\", \"2017-05-02\", \"2017-05-03\", \"2017-05-04\", \"2017-05-05\", \"2017-05-08\", \"2017-05-09\", \"2017-05-10\", \"2017-05-11\", \"2017-05-12\", \"2017-05-15\", \"2017-05-16\", \"2017-05-17\", \"2017-05-18\", \"2017-05-19\", \"2017-05-22\", \"2017-05-23\", \"2017-05-24\", \"2017-05-25\", \"2017-05-26\", \"2017-05-30\", \"2017-05-31\", \"2017-06-01\", \"2017-06-02\", \"2017-06-05\", \"2017-06-06\", \"2017-06-07\", \"2017-06-08\", \"2017-06-09\", \"2017-06-12\", \"2017-06-13\", \"2017-06-14\", \"2017-06-15\", \"2017-06-16\", \"2017-06-19\", \"2017-06-20\", \"2017-06-21\", \"2017-06-22\", \"2017-06-23\", \"2017-06-26\", \"2017-06-27\", \"2017-06-28\", \"2017-06-29\", \"2017-06-30\", \"2017-07-03\", \"2017-07-05\", \"2017-07-06\", \"2017-07-07\", \"2017-07-10\", \"2017-07-11\", \"2017-07-12\", \"2017-07-13\", \"2017-07-14\", \"2017-07-17\", \"2017-07-18\", \"2017-07-19\", \"2017-07-20\", \"2017-07-21\", \"2017-07-24\", \"2017-07-25\", \"2017-07-26\", \"2017-07-27\", \"2017-07-28\", \"2017-07-31\", \"2017-08-01\", \"2017-08-02\", \"2017-08-03\", \"2017-08-04\", \"2017-08-07\", \"2017-08-08\", \"2017-08-09\", \"2017-08-10\", \"2017-08-11\", \"2017-08-14\", \"2017-08-15\", \"2017-08-16\", \"2017-08-17\", \"2017-08-18\", \"2017-08-21\", \"2017-08-22\", \"2017-08-23\", \"2017-08-24\", \"2017-08-25\", \"2017-08-28\", \"2017-08-29\", \"2017-08-30\", \"2017-08-31\", \"2017-09-01\", \"2017-09-05\", \"2017-09-06\", \"2017-09-07\", \"2017-09-08\", \"2017-09-11\", \"2017-09-12\", \"2017-09-13\", \"2017-09-14\", \"2017-09-15\", \"2017-09-18\", \"2017-09-19\", \"2017-09-20\", \"2017-09-21\", \"2017-09-22\", \"2017-09-25\", \"2017-09-26\", \"2017-09-27\", \"2017-09-28\", \"2017-09-29\", \"2017-10-02\", \"2017-10-03\", \"2017-10-04\", \"2017-10-05\", \"2017-10-06\", \"2017-10-09\", \"2017-10-10\", \"2017-10-11\", \"2017-10-12\", \"2017-10-13\", \"2017-10-16\", \"2017-10-17\", \"2017-10-18\", \"2017-10-19\", \"2017-10-20\", \"2017-10-23\", \"2017-10-24\", \"2017-10-25\", \"2017-10-26\", \"2017-10-27\", \"2017-10-30\", \"2017-10-31\", \"2017-11-01\", \"2017-11-02\", \"2017-11-03\", \"2017-11-06\", \"2017-11-07\", \"2017-11-08\", \"2017-11-09\", \"2017-11-10\", \"2017-11-13\", \"2017-11-14\", \"2017-11-15\", \"2017-11-16\", \"2017-11-17\", \"2017-11-20\", \"2017-11-21\", \"2017-11-22\", \"2017-11-24\", \"2017-11-27\", \"2017-11-28\", \"2017-11-29\", \"2017-11-30\", \"2017-12-01\", \"2017-12-04\", \"2017-12-05\", \"2017-12-06\", \"2017-12-07\", \"2017-12-08\", \"2017-12-11\", \"2017-12-12\", \"2017-12-13\", \"2017-12-14\", \"2017-12-15\", \"2017-12-18\", \"2017-12-19\", \"2017-12-20\", \"2017-12-21\", \"2017-12-22\", \"2017-12-26\", \"2017-12-27\", \"2017-12-28\", \"2017-12-29\", \"2018-01-02\", \"2018-01-03\", \"2018-01-04\", \"2018-01-05\", \"2018-01-08\", \"2018-01-09\", \"2018-01-10\", \"2018-01-11\", \"2018-01-12\", \"2018-01-16\", \"2018-01-17\", \"2018-01-18\", \"2018-01-19\", \"2018-01-22\", \"2018-01-23\", \"2018-01-24\", \"2018-01-25\", \"2018-01-26\", \"2018-01-29\", \"2018-01-30\", \"2018-01-31\", \"2018-02-01\", \"2018-02-02\", \"2018-02-05\", \"2018-02-06\", \"2018-02-07\", \"2018-02-08\", \"2018-02-09\", \"2018-02-12\", \"2018-02-13\", \"2018-02-14\", \"2018-02-15\", \"2018-02-16\", \"2018-02-20\", \"2018-02-21\", \"2018-02-22\", \"2018-02-23\", \"2018-02-26\", \"2018-02-27\", \"2018-02-28\", \"2018-03-01\", \"2018-03-02\", \"2018-03-05\", \"2018-03-06\", \"2018-03-07\", \"2018-03-08\", \"2018-03-09\", \"2018-03-12\", \"2018-03-13\", \"2018-03-14\", \"2018-03-15\", \"2018-03-16\", \"2018-03-19\", \"2018-03-20\", \"2018-03-21\", \"2018-03-22\", \"2018-03-23\", \"2018-03-26\", \"2018-03-27\", \"2018-03-28\", \"2018-03-29\", \"2018-04-02\", \"2018-04-03\", \"2018-04-04\", \"2018-04-05\", \"2018-04-06\", \"2018-04-09\", \"2018-04-10\", \"2018-04-11\", \"2018-04-12\", \"2018-04-13\", \"2018-04-16\", \"2018-04-17\", \"2018-04-18\", \"2018-04-19\", \"2018-04-20\", \"2018-04-23\", \"2018-04-24\", \"2018-04-25\", \"2018-04-26\", \"2018-04-27\", \"2018-04-30\", \"2018-05-01\", \"2018-05-02\", \"2018-05-03\", \"2018-05-04\", \"2018-05-07\", \"2018-05-08\", \"2018-05-09\", \"2018-05-10\", \"2018-05-11\", \"2018-05-14\", \"2018-05-15\", \"2018-05-16\", \"2018-05-17\", \"2018-05-18\", \"2018-05-21\", \"2018-05-22\", \"2018-05-23\", \"2018-05-24\", \"2018-05-25\", \"2018-05-29\", \"2018-05-30\", \"2018-05-31\", \"2018-06-01\", \"2018-06-04\", \"2018-06-05\", \"2018-06-06\", \"2018-06-07\", \"2018-06-08\", \"2018-06-11\", \"2018-06-12\", \"2018-06-13\", \"2018-06-14\", \"2018-06-15\", \"2018-06-18\", \"2018-06-19\", \"2018-06-20\", \"2018-06-21\", \"2018-06-22\", \"2018-06-25\", \"2018-06-26\", \"2018-06-27\", \"2018-06-28\", \"2018-06-29\", \"2018-07-02\", \"2018-07-03\", \"2018-07-05\", \"2018-07-06\", \"2018-07-09\", \"2018-07-10\", \"2018-07-11\", \"2018-07-12\", \"2018-07-13\", \"2018-07-16\", \"2018-07-17\", \"2018-07-18\", \"2018-07-19\", \"2018-07-20\", \"2018-07-23\", \"2018-07-24\", \"2018-07-25\", \"2018-07-26\", \"2018-07-27\", \"2018-07-30\", \"2018-07-31\", \"2018-08-01\", \"2018-08-02\", \"2018-08-03\", \"2018-08-06\", \"2018-08-07\", \"2018-08-08\", \"2018-08-09\", \"2018-08-10\", \"2018-08-13\", \"2018-08-14\", \"2018-08-15\", \"2018-08-16\", \"2018-08-17\", \"2018-08-20\", \"2018-08-21\", \"2018-08-22\", \"2018-08-23\", \"2018-08-24\", \"2018-08-27\", \"2018-08-28\", \"2018-08-29\", \"2018-08-30\", \"2018-08-31\", \"2018-09-04\", \"2018-09-05\", \"2018-09-06\", \"2018-09-07\", \"2018-09-10\", \"2018-09-11\", \"2018-09-12\", \"2018-09-13\", \"2018-09-14\", \"2018-09-17\", \"2018-09-18\", \"2018-09-19\", \"2018-09-20\", \"2018-09-21\", \"2018-09-24\", \"2018-09-25\", \"2018-09-26\", \"2018-09-27\", \"2018-09-28\", \"2018-10-01\", \"2018-10-02\", \"2018-10-03\", \"2018-10-04\", \"2018-10-05\", \"2018-10-08\", \"2018-10-09\", \"2018-10-10\", \"2018-10-11\", \"2018-10-12\", \"2018-10-15\", \"2018-10-16\", \"2018-10-17\", \"2018-10-18\", \"2018-10-19\", \"2018-10-22\", \"2018-10-23\", \"2018-10-24\", \"2018-10-25\", \"2018-10-26\", \"2018-10-29\", \"2018-10-30\", \"2018-10-31\", \"2018-11-01\", \"2018-11-02\", \"2018-11-05\", \"2018-11-06\", \"2018-11-07\", \"2018-11-08\", \"2018-11-09\", \"2018-11-12\", \"2018-11-13\", \"2018-11-14\", \"2018-11-15\", \"2018-11-16\", \"2018-11-19\", \"2018-11-20\", \"2018-11-21\", \"2018-11-23\", \"2018-11-26\", \"2018-11-27\", \"2018-11-28\", \"2018-11-29\", \"2018-11-30\", \"2018-12-03\", \"2018-12-04\", \"2018-12-06\", \"2018-12-07\", \"2018-12-10\", \"2018-12-11\", \"2018-12-12\", \"2018-12-13\", \"2018-12-14\", \"2018-12-17\", \"2018-12-18\", \"2018-12-19\", \"2018-12-20\", \"2018-12-21\", \"2018-12-24\", \"2018-12-26\", \"2018-12-27\", \"2018-12-28\", \"2018-12-31\", \"2019-01-02\", \"2019-01-03\", \"2019-01-04\", \"2019-01-07\", \"2019-01-08\", \"2019-01-09\", \"2019-01-10\", \"2019-01-11\", \"2019-01-14\", \"2019-01-15\", \"2019-01-16\", \"2019-01-17\", \"2019-01-18\", \"2019-01-22\", \"2019-01-23\", \"2019-01-24\", \"2019-01-25\", \"2019-01-28\", \"2019-01-29\", \"2019-01-30\", \"2019-01-31\", \"2019-02-01\", \"2019-02-04\", \"2019-02-05\", \"2019-02-06\", \"2019-02-07\", \"2019-02-08\", \"2019-02-11\", \"2019-02-12\", \"2019-02-13\", \"2019-02-14\", \"2019-02-15\", \"2019-02-19\", \"2019-02-20\", \"2019-02-21\", \"2019-02-22\", \"2019-02-25\", \"2019-02-26\", \"2019-02-27\", \"2019-02-28\", \"2019-03-01\", \"2019-03-04\", \"2019-03-05\", \"2019-03-06\", \"2019-03-07\", \"2019-03-08\", \"2019-03-11\", \"2019-03-12\", \"2019-03-13\", \"2019-03-14\", \"2019-03-15\", \"2019-03-18\", \"2019-03-19\", \"2019-03-20\", \"2019-03-21\", \"2019-03-22\", \"2019-03-25\", \"2019-03-26\", \"2019-03-27\", \"2019-03-28\", \"2019-03-29\", \"2019-04-01\", \"2019-04-02\", \"2019-04-03\", \"2019-04-04\", \"2019-04-05\", \"2019-04-08\", \"2019-04-09\", \"2019-04-10\", \"2019-04-11\", \"2019-04-12\", \"2019-04-15\", \"2019-04-16\", \"2019-04-17\", \"2019-04-18\", \"2019-04-22\", \"2019-04-23\", \"2019-04-24\", \"2019-04-25\", \"2019-04-26\", \"2019-04-29\", \"2019-04-30\", \"2019-05-01\", \"2019-05-02\", \"2019-05-03\", \"2019-05-06\", \"2019-05-07\", \"2019-05-08\", \"2019-05-09\", \"2019-05-10\", \"2019-05-13\", \"2019-05-14\", \"2019-05-15\", \"2019-05-16\", \"2019-05-17\", \"2019-05-20\", \"2019-05-21\", \"2019-05-22\", \"2019-05-23\", \"2019-05-24\", \"2019-05-28\", \"2019-05-29\", \"2019-05-30\", \"2019-05-31\", \"2019-06-03\", \"2019-06-04\", \"2019-06-05\", \"2019-06-06\", \"2019-06-07\", \"2019-06-10\", \"2019-06-11\", \"2019-06-12\", \"2019-06-13\", \"2019-06-14\", \"2019-06-17\", \"2019-06-18\", \"2019-06-19\", \"2019-06-20\", \"2019-06-21\", \"2019-06-24\", \"2019-06-25\", \"2019-06-26\", \"2019-06-27\", \"2019-06-28\", \"2019-07-01\", \"2019-07-02\", \"2019-07-03\", \"2019-07-05\", \"2019-07-08\", \"2019-07-09\", \"2019-07-10\", \"2019-07-11\", \"2019-07-12\", \"2019-07-15\", \"2019-07-16\", \"2019-07-17\", \"2019-07-18\", \"2019-07-19\", \"2019-07-22\", \"2019-07-23\", \"2019-07-24\", \"2019-07-25\", \"2019-07-26\", \"2019-07-29\", \"2019-07-30\", \"2019-07-31\", \"2019-08-01\", \"2019-08-02\", \"2019-08-05\", \"2019-08-06\", \"2019-08-07\", \"2019-08-08\", \"2019-08-09\", \"2019-08-12\", \"2019-08-13\", \"2019-08-14\", \"2019-08-15\", \"2019-08-16\", \"2019-08-19\", \"2019-08-20\", \"2019-08-21\", \"2019-08-22\", \"2019-08-23\", \"2019-08-26\", \"2019-08-27\", \"2019-08-28\", \"2019-08-29\", \"2019-08-30\", \"2019-09-03\", \"2019-09-04\", \"2019-09-05\", \"2019-09-06\", \"2019-09-09\", \"2019-09-10\", \"2019-09-11\", \"2019-09-12\", \"2019-09-13\", \"2019-09-16\", \"2019-09-17\", \"2019-09-18\", \"2019-09-19\", \"2019-09-20\", \"2019-09-23\", \"2019-09-24\", \"2019-09-25\", \"2019-09-26\", \"2019-09-27\", \"2019-09-30\", \"2019-10-01\", \"2019-10-02\", \"2019-10-03\", \"2019-10-04\", \"2019-10-07\", \"2019-10-08\", \"2019-10-09\", \"2019-10-10\", \"2019-10-11\", \"2019-10-14\", \"2019-10-15\", \"2019-10-16\", \"2019-10-17\", \"2019-10-18\", \"2019-10-21\", \"2019-10-22\", \"2019-10-23\", \"2019-10-24\", \"2019-10-25\", \"2019-10-28\", \"2019-10-29\", \"2019-10-30\", \"2019-10-31\", \"2019-11-01\", \"2019-11-04\", \"2019-11-05\", \"2019-11-06\", \"2019-11-07\", \"2019-11-08\", \"2019-11-11\", \"2019-11-12\", \"2019-11-13\", \"2019-11-14\", \"2019-11-15\", \"2019-11-18\", \"2019-11-19\", \"2019-11-20\", \"2019-11-21\", \"2019-11-22\", \"2019-11-25\", \"2019-11-26\", \"2019-11-27\", \"2019-11-29\", \"2019-12-02\", \"2019-12-03\", \"2019-12-04\", \"2019-12-05\", \"2019-12-06\", \"2019-12-09\", \"2019-12-10\", \"2019-12-11\", \"2019-12-12\", \"2019-12-13\", \"2019-12-16\", \"2019-12-17\", \"2019-12-18\", \"2019-12-19\", \"2019-12-20\", \"2019-12-23\", \"2019-12-24\", \"2019-12-26\", \"2019-12-27\", \"2019-12-30\", \"2019-12-31\", \"2020-01-02\", \"2020-01-03\", \"2020-01-06\", \"2020-01-07\", \"2020-01-08\", \"2020-01-09\", \"2020-01-10\", \"2020-01-13\", \"2020-01-14\", \"2020-01-15\", \"2020-01-16\", \"2020-01-17\", \"2020-01-21\", \"2020-01-22\", \"2020-01-23\", \"2020-01-24\", \"2020-01-27\", \"2020-01-28\", \"2020-01-29\", \"2020-01-30\", \"2020-01-31\", \"2020-02-03\", \"2020-02-04\", \"2020-02-05\", \"2020-02-06\", \"2020-02-07\", \"2020-02-10\", \"2020-02-11\", \"2020-02-12\", \"2020-02-13\", \"2020-02-14\", \"2020-02-18\", \"2020-02-19\", \"2020-02-20\", \"2020-02-21\", \"2020-02-24\", \"2020-02-25\", \"2020-02-26\", \"2020-02-27\", \"2020-02-28\", \"2020-03-02\", \"2020-03-03\", \"2020-03-04\", \"2020-03-05\", \"2020-03-06\", \"2020-03-09\", \"2020-03-10\", \"2020-03-11\", \"2020-03-12\", \"2020-03-13\", \"2020-03-16\", \"2020-03-17\", \"2020-03-18\", \"2020-03-19\", \"2020-03-20\", \"2020-03-23\", \"2020-03-24\", \"2020-03-25\", \"2020-03-26\", \"2020-03-27\", \"2020-03-30\", \"2020-03-31\", \"2020-04-01\", \"2020-04-02\", \"2020-04-03\", \"2020-04-06\", \"2020-04-07\", \"2020-04-08\", \"2020-04-09\", \"2020-04-13\", \"2020-04-14\", \"2020-04-15\", \"2020-04-16\", \"2020-04-17\", \"2020-04-20\", \"2020-04-21\", \"2020-04-22\", \"2020-04-23\", \"2020-04-24\", \"2020-04-27\", \"2020-04-28\", \"2020-04-29\", \"2020-04-30\", \"2020-05-01\", \"2020-05-04\", \"2020-05-05\", \"2020-05-06\", \"2020-05-07\", \"2020-05-08\", \"2020-05-11\", \"2020-05-12\", \"2020-05-13\", \"2020-05-14\", \"2020-05-15\", \"2020-05-18\", \"2020-05-19\", \"2020-05-20\", \"2020-05-21\", \"2020-05-22\", \"2020-05-26\", \"2020-05-27\", \"2020-05-28\", \"2020-05-29\", \"2020-06-01\", \"2020-06-02\", \"2020-06-03\", \"2020-06-04\", \"2020-06-05\", \"2020-06-08\", \"2020-06-09\", \"2020-06-10\", \"2020-06-11\", \"2020-06-12\", \"2020-06-15\", \"2020-06-16\", \"2020-06-17\", \"2020-06-18\", \"2020-06-19\", \"2020-06-22\", \"2020-06-23\", \"2020-06-24\", \"2020-06-25\", \"2020-06-26\", \"2020-06-29\", \"2020-06-30\", \"2020-07-01\", \"2020-07-02\", \"2020-07-06\", \"2020-07-07\", \"2020-07-08\", \"2020-07-09\", \"2020-07-10\", \"2020-07-13\", \"2020-07-14\", \"2020-07-15\", \"2020-07-16\", \"2020-07-17\", \"2020-07-20\", \"2020-07-21\", \"2020-07-22\", \"2020-07-23\", \"2020-07-24\", \"2020-07-27\", \"2020-07-28\", \"2020-07-29\", \"2020-07-30\", \"2020-07-31\", \"2020-08-03\", \"2020-08-04\", \"2020-08-05\", \"2020-08-06\", \"2020-08-07\", \"2020-08-10\", \"2020-08-11\"], \"xaxis\": \"x\", \"y\": [999999.0, 984778.2890836404, 1000667.7334296079, 1013903.6138472144, 1020812.6290047559, 1006925.6398816165, 1007987.2589608638, 1008542.5489107203, 1015593.3716196214, 1018648.572996158, 1023876.8975239058, 1023468.161275993, 1025605.2325041759, 1019857.0125185199, 1023768.2630727392, 1042865.0005301369, 1042243.2442293472, 1043468.9465942226, 1049539.6549800204, 1057084.1136481704, 1049683.15238583, 1060831.9222544476, 1065860.5677700527, 1055509.4046025514, 1057877.4253000552, 1061875.5017919755, 1066044.3773382984, 1060937.2488012933, 1066108.3861435996, 1067130.743316116, 1064680.6542757803, 1076695.980767556, 1071083.1179717246, 1077907.5800967962, 1076502.6475669735, 1070236.49271696, 1056434.3078751513, 1063470.143536941, 1075360.1530893561, 1074954.8128695493, 1080784.2632705306, 1099278.8701955737, 1101899.3000898936, 1107873.770569375, 1109245.933634302, 1116355.524996672, 1120172.0353679114, 1121117.7872472368, 1118233.2585017136, 1118622.7014707432, 1145085.0625188332, 1147906.3014397565, 1144637.4593196404, 1141820.3104977177, 1135821.5529842502, 1140948.3915818841, 1146196.2662094436, 1123324.3525592033, 1123263.3732827452, 1113776.2797665854, 1095275.4717395252, 1104644.9100633922, 1119836.9163800613, 1100563.482821665, 1081851.4134139158, 1102620.8665076387, 1096175.722714691, 1086995.424888658, 1081625.8131854534, 1072847.7641400353, 1074977.9258394486, 1109023.5365396992, 1117119.2204465251, 1142924.532838622, 1136473.979717234, 1138020.7653616858, 1140843.4066988528, 1132210.29153368, 1109930.3251810365, 1114774.8911960267, 1104891.907177201, 1098998.8576984229, 1109901.0527900076, 1105200.7897339829, 1088043.4259146214, 1086039.273938186, 1087989.229356862, 1066151.644109174, 1049222.9131694997, 1077731.872912636, 1073205.831361931, 1081275.581776987, 1074958.2315378669, 1063099.3975050175, 1078007.4371480104, 1063955.9518985436, 1060515.0069048454, 1033492.4547099569, 1041316.6651478396, 1040573.5744774856, 1063987.3768494364, 1065441.196992039, 1073256.4666118536, 1058154.333883704, 1068015.074604413, 1060514.8556504678, 1062429.079149625, 1074005.8168930893, 1086520.3639619688, 1096317.6928664648, 1097744.5839408292, 1073964.3937217607, 1084435.033691281, 1068655.3438263447, 1071226.2316802577, 1078182.2327705775, 1068618.589824161, 1096239.629473912, 1095949.3154101104, 1103756.1530501565, 1106611.9813459334, 1093316.1640280467, 1094165.5869098378, 1079993.3900892797, 1071259.1617285511, 1065820.0797329172, 1083832.777807234, 1083294.09862691, 1079843.9961696833, 1085750.6763597487, 1108255.9068714194, 1103975.5253992982, 1096195.732797545, 1084147.394134357, 1073980.0379710998, 1083192.9770278707, 1116996.6587291306, 1112122.2623439115, 1111573.666702345, 1103347.636529337, 1096571.484010001, 1117646.336389031, 1122468.4393873804, 1134576.60108622, 1129017.722177777, 1128073.9057203191, 1129660.1096045696, 1140062.9518167083, 1138393.5226237872, 1141103.8872775296, 1154578.7411021083, 1159480.8656766221, 1160940.9732631517, 1151409.257921704, 1159941.4414104042, 1151051.4269045223, 1157059.5783144056, 1150959.8891678383, 1154859.5690470615, 1158515.4786544451, 1148444.8879933853, 1155053.7726079938, 1153557.188962275, 1152449.422445911, 1175833.5253314131, 1189435.6607326954, 1175158.5267085019, 1174563.2454639676, 1178529.1563464464, 1200376.9660006748, 1207412.1329870839, 1209100.744789569, 1210026.672596525, 1213639.1055040886, 1210394.9195672162, 1207545.495863035, 1207978.0941166237, 1190779.658287136, 1187031.9045133118, 1204264.9775973908, 1199419.7582417417, 1201313.707482435, 1199131.6645222087, 1208488.2629144294, 1213898.8154847948, 1209081.0565150173, 1201422.338232396, 1184612.856496085, 1176685.074616256, 1175548.6157746015, 1173787.515487425, 1178158.8685423883, 1191405.6285572012, 1189480.6640787246, 1160110.2695463197, 1140275.215301353, 1141170.0120652714, 1130212.3901700315, 1121608.5809535142, 1115660.9335942534, 1125721.8076121025, 1121674.712248222, 1131649.6012008688, 1119021.2977561646, 1128222.4872804417, 1134662.8331900698, 1108365.4428254904, 1091682.3021630312, 1098397.3608262837, 1099171.3488426178, 1095995.064590575, 1080169.7607128911, 1072256.3008450363, 1081080.4805139652, 1111857.5614403565, 1114676.9798886245, 1119134.8340914615, 1129651.9141186294, 1135008.4464229275, 1134113.630280564, 1144841.5008933565, 1153896.0220286825, 1155040.2648500884, 1153039.5116703326, 1148073.0548450297, 1137707.9080993664, 1145530.9043129762, 1144003.6395429566, 1141937.9625622507, 1155658.374463424, 1155607.8008277887, 1146981.2858191621, 1138757.1113725107, 1156915.8714644501, 1172730.6932589014, 1166275.769206741, 1170381.0233785736, 1160364.9406048607, 1158714.601571375, 1145396.7254285137, 1145692.204436631, 1131344.6159938816, 1151845.6500296732, 1183539.400527578, 1181274.7128655738, 1181872.996293281, 1183923.083796988, 1177203.8756298658, 1180326.99333401, 1183662.0017730654, 1181909.233096913, 1176900.4797424492, 1175934.9310689184, 1171609.9134253406, 1174897.8081642373, 1174713.5624327369, 1176890.91346912, 1199616.1023639785, 1195091.4507380247, 1202004.6875976908, 1197514.2346156803, 1185848.1832174652, 1195004.1616521936, 1187827.7016988576, 1200868.1891930897, 1184045.4781731376, 1199240.8870128572, 1198070.4275115994, 1201164.0062488427, 1210424.1548447625, 1200952.837942146, 1198569.2511680776, 1207390.705308164, 1207925.6392293056, 1201595.1866983222, 1214432.43423411, 1199120.2371866303, 1190533.7830643929, 1200261.178596531, 1176797.405863908, 1181373.7807513548, 1197145.6871587876, 1194657.3086577798, 1197013.9252718505, 1209101.7106256217, 1227012.0483770755, 1227303.7792297835, 1235462.4071064785, 1238129.8155148637, 1242988.8277884517, 1242498.2898438536, 1245078.2642155911, 1239452.1541273328, 1234737.4702574122, 1227223.8898656098, 1226144.159423752, 1232351.599947347, 1221983.4939165183, 1231878.0969013034, 1231133.624992237, 1241532.4769869864, 1238277.0797815665, 1236776.8562615858, 1241615.0312175269, 1247829.7751074075, 1231351.98972076, 1229677.7179068995, 1218951.5123956054, 1224204.8323273908, 1226147.9507851314, 1245175.8641792221, 1255607.3632417168, 1256273.7815523993, 1233792.959603127, 1254091.5932729994, 1234976.0776034794, 1218339.6778335737, 1219268.6041358276, 1227027.6056212056, 1246492.7986217889, 1251333.2085237158, 1265093.290704627, 1248666.2448477834, 1266986.0948460423, 1277253.760969991, 1262979.6233084088, 1281154.8966637233, 1299471.9574228039, 1316251.0719357028, 1309482.3914186575, 1317961.9710273098, 1347854.4522562155, 1372117.861002724, 1396944.6063668611, 1395021.8503840398, 1403351.9780165793, 1415335.5285672983, 1429281.9740031243, 1425293.4699332225, 1421065.80047847, 1404572.9882921635, 1415551.9632609405, 1423301.2795020847, 1464070.186708808, 1443077.067434114, 1452409.640869925, 1430390.707257689, 1420651.1630487207, 1415938.7001944957, 1408103.8609838, 1417920.6491107543, 1451884.3768477235, 1452192.932743512, 1425753.1034418219, 1421103.538393587, 1436113.972257281, 1433481.665889136, 1449797.6432273744, 1465364.414206625, 1454113.405120267, 1418167.873351028, 1412037.9696999786, 1398811.7817341315, 1407004.7321958605, 1427118.3514078055, 1441415.7235543523, 1433387.480406765, 1468474.650046938, 1468719.028349135, 1469205.6252595375, 1490152.1265387735, 1502270.9238549033, 1507123.7909890315, 1506839.1654661389, 1531738.731247905, 1540599.6008252956, 1544012.4212477768, 1498441.5442638686, 1527502.0237683286, 1529256.3265147894, 1520598.3101776135, 1530737.812347958, 1527400.710310925, 1527829.8829830477, 1531865.298177183, 1550014.4215099234, 1554997.652979422, 1551792.7163853457, 1553362.0497028008, 1573387.6421310797, 1580548.316917594, 1594240.1470350467, 1579356.7332163993, 1553148.8747621595, 1595796.4458171597, 1591117.9377341743, 1578841.3304992002, 1580054.3176947695, 1557588.3957136755, 1543527.058515034, 1548054.4754803386, 1559076.923045827, 1570341.2627962395, 1564417.906457152, 1596473.622245097, 1608214.4379028429, 1608890.9317992956, 1591203.3021484083, 1591562.3173174572, 1598728.868003066, 1596470.9610208136, 1612102.9843850024, 1629799.9655092382, 1631806.1763827505, 1625616.6974470501, 1625626.3421298296, 1641949.9880025096, 1636569.059174728, 1639179.843510521, 1642225.0920573443, 1647964.9136508384, 1657655.5449586026, 1679111.7499175894, 1707359.1835788037, 1714119.2790927957, 1707125.385289059, 1713482.6415982775, 1712456.4646422942, 1729337.0427696921, 1726097.854098595, 1723041.66445548, 1739372.315572847, 1710510.192785678, 1675609.940422581, 1700354.450163919, 1691845.8205251186, 1652550.318314807, 1638377.9578605492, 1673855.3093316376, 1695283.7397739608, 1703852.004355957, 1706605.7468269393, 1723266.8850238957, 1713033.7317506564, 1767759.1361469363, 1739489.756965665, 1747061.6690582398, 1743510.7516738242, 1772114.5895147077, 1787767.9098820498, 1766458.2505753273, 1783266.469083442, 1767547.937222405, 1766955.4278200343, 1771631.4476101755, 1804208.6557282945, 1804013.4654542443, 1743367.0140601716, 1693988.4179892289, 1707338.801487627, 1725919.5762380066, 1706252.244524735, 1724995.431653262, 1736832.0872410284, 1735181.7101162062, 1702139.956695539, 1705930.6617555644, 1681969.8692471394, 1697360.2854157393, 1700455.4602093727, 1700745.839992418, 1711347.297031062, 1738337.723680059, 1746140.0567001528, 1732284.039651061, 1771294.5649472466, 1760197.1686699097, 1764253.5186372537, 1770152.1515048202, 1783431.2627657477, 1786651.7693629873, 1765913.7142966425, 1779463.462349199, 1779915.3059119454, 1798194.9881001408, 1806532.9287987233, 1813591.745611886, 1795823.409145097, 1816421.5732434175, 1830926.892287209, 1847281.537480604, 1867593.273582887, 1848832.7188939175, 1844244.8619450442, 1852465.6164737416, 1843630.4189751882, 1837236.2145264933, 1833718.2595892928, 1859590.7878362595, 1868071.2365946714, 1855807.0730645633, 1849109.015229544, 1819438.2775705454, 1890486.985877405, 1902047.005700733, 1919444.297700899, 1917833.17293498, 1946157.9874001562, 1945942.8581717438, 1940649.0835397746, 1881952.4251289738, 1862210.1731442863, 1884865.655362548, 1846220.060277182, 1888085.6506549586, 1858863.9248489488, 1810883.6915746548, 1820354.3530218406, 1809978.034650909, 1837648.5335002285, 1882665.7224277065, 1906599.4087552815, 1926046.342774814, 1909103.1465743375, 1937612.646546922, 1940421.7491239803, 1952827.0193497501, 1914223.6391089836, 1960408.229458737, 1952112.8848061485, 1984334.1816313555, 2054336.3561645898, 2066236.344004753, 2074364.2374816837, 2056882.423352681, 2061200.6848252446, 2089783.0332483118, 2091203.6305257261, 2093191.9849511054, 2075504.1285878597, 2050724.6543124774, 2032257.7394235423, 2049644.8579400002, 2024586.623269272, 2003351.4306580944, 2028054.074528126, 2052919.8452780722, 2028150.607822509, 2027662.5495957176, 1999549.8455613337, 1967248.7811177233, 1979854.8808156755, 1937355.8831632703, 1911751.2829185727, 1927548.3908160003, 1923416.0181092639, 1965715.735632035, 1996044.3524886474, 1976975.0093896815, 1911776.5025689907, 1884409.193764065, 1919265.6267098212, 1945027.7384491735, 1874918.367809375, 1856792.9787765516, 1854358.4983988614, 1848044.9975883479, 1885463.2049801736, 1869728.422198575, 1888785.642921035, 1927795.1670478303, 1894301.7982359275, 1913104.2707895744, 1855983.3709041732, 1853008.646874235, 1892376.9468866924, 1900322.7363875282, 1902886.8915952332, 1911847.9268152255, 1931323.3435295625, 1883551.8733557917, 1860649.9141532164, 1801542.5389052676, 1819609.1947397862, 1850253.3346583939, 1867758.723664343, 1852648.467400202, 1833555.5288206802, 1844980.6732779525, 1863757.4478926181, 1858703.3668285443, 1883774.2291012804, 1903121.3746540993, 1924057.2499229664, 1948262.9985851068, 1940339.5513064289, 1949350.4553271255, 1942377.2524034819, 1931190.45682699, 1923586.4116472786, 1923367.5430826712, 1954655.9953365037, 1966409.6994077682, 1961985.515574442, 1956047.0632903792, 1954867.351032773, 1930628.3465152013, 1939600.244931586, 1979794.376081057, 1993602.5079556338, 2000885.1116882446, 1996881.8228703323, 1996657.0709806646, 2020977.7311225603, 2001001.7063529806, 2020737.8537873419, 2019061.7378860158, 2030478.3519535337, 2030845.6134567293, 2050441.0020403438, 2029192.7612898434, 2037666.9741383858, 2020185.386927567, 1987387.4557705675, 2007624.6306482607, 1991544.753357955, 2010944.0086173133, 2049435.6770558532, 2027292.807754635, 2023003.4366931561, 2001726.446000841, 2038596.063311736, 2035088.321460566, 2047135.5352938103, 2052259.4879082462, 2050210.5182096588, 2017695.6836437052, 2023500.5301707727, 2016745.8341173232, 2028879.441817525, 1982500.2438293444, 1993107.1748281498, 2015859.338599304, 2004660.7010700942, 2022344.7221043082, 2023027.7450049892, 2028329.8458293905, 2058997.7168485506, 2057159.1908513277, 2078207.8488709321, 2091713.9880531162, 2091321.5876413106, 2101781.39603811, 2102937.978022371, 2103454.619448751, 2099013.971109736, 2102969.253469514, 2119890.111588492, 2124281.7396407807, 2124973.1354478737, 2121209.1435570065, 2135174.481001458, 2171059.4617578867, 2155255.830091736, 2171289.5119344867, 2156425.143651561, 2168552.5700295754, 2142811.200639522, 2158913.384850943, 2155824.7036233745, 2146388.8181308075, 2078265.748797133, 2103356.218657966, 2106858.019515102, 2121438.7235734374, 2119506.6090900134, 2081718.9489042456, 2076883.695933191, 2091768.5673114378, 2049208.4676625682, 2062036.5253838196, 2054033.1434050812, 2049547.9020754588, 2019460.3465475063, 2046950.1203545218, 2070089.3897833845, 2083335.1806608862, 2054244.3154304677, 2077944.1872929113, 2047061.4435745396, 1980157.503787399, 1930047.4383562547, 1942788.8938874716, 1932177.2472014122, 1917518.1514933645, 1926045.1057244637, 1935738.604621969, 1968243.2237971888, 1948057.285457601, 1972620.1160819454, 1951730.2822292752, 1922910.9848758497, 1991463.9445650177, 1979514.384546677, 1988612.8394599583, 2013404.1327913853, 2016918.9461481092, 1999272.3550356633, 1967501.311114348, 1990065.6885832113, 1991036.7470003702, 2005982.198389846, 2038338.98158714, 2033697.149869664, 2051054.3830574083, 2080505.6564737046, 2059255.6933238707, 2073630.6305133107, 2051832.896101536, 2058863.4115811707, 2053703.2786553795, 2075314.909545711, 2076750.6839932115, 2079370.0594981036, 2074231.5501805972, 2015285.5256220226, 2016249.2175362683, 2006221.7214117527, 2004754.7693640676, 1983474.0349831353, 1946343.790588536, 1963384.0553851028, 1916510.9805812796, 1915433.7857582069, 1887047.4774983092, 1870846.8507856755, 1830656.6061770073, 1866871.2197098858, 1920731.7073627417, 1932065.2879145662, 1959250.666097895, 1964122.1320674631, 1963313.0551755442, 1990836.945511545, 1986623.631071485, 1972241.192601214, 1960988.0633065058, 1949927.5947620904, 1901204.0694525042, 1880886.9544141223, 1892021.8971776434, 1913558.3039174045, 1895424.9384683294, 1866991.1392906727, 1878977.086263882, 1849231.6213886233, 1833527.2812487986, 1847785.4038620135, 1846623.107383935, 1870540.8530448838, 1921851.232371947, 1924940.4290214502, 1934992.5661677509, 1905561.4123944007, 1898545.5997107981, 1944071.2543959583, 1975626.1649601979, 2006412.4513734276, 2034393.186224381, 2029154.6377338492, 2052887.2312309206, 2041096.9625512746, 2034036.9844522884, 2052494.164871778, 2050230.0841127965, 2040598.087503998, 2057388.494006105, 2053583.5830896467, 2056230.6942321213, 2084804.8361961523, 2109736.313059205, 2079714.4254323891, 2072042.809511488, 2071314.2826243327, 2084350.5977809427, 2068137.2547251321, 2073017.4836003692, 2081786.0062911527, 2080682.8053204282, 2079804.4579597735, 2044352.7679220238, 2041513.6590561576, 2006167.9609414698, 2000226.7821239976, 2013247.8335479107, 1991414.0483914744, 2026788.732004545, 2031567.7043851223, 2065935.9985482162, 2047190.0444925027, 2060778.9839555286, 2060958.4585154087, 2064819.163226598, 2018309.5551066943, 2005611.6790266188, 1991115.0756901044, 2026408.6791959344, 2005029.2334691705, 1992248.75707109, 2003984.7056057698, 2046001.4740346053, 2042925.663921306, 2064127.8598839934, 2077585.665763747, 2082391.3365180157, 2073572.241504773, 2063752.2513992225, 2068379.9789426085, 2065071.8691009097, 2037611.6839864515, 2071382.966489781, 2078613.3525698609, 2106778.0481761685, 2115162.9152970216, 2169608.9000477404, 2192477.5782156074, 2182398.7348959697, 2174325.5353361005, 2130012.59174468, 2145933.487654355, 2157268.3027710775, 2140943.6903982465, 2119244.871963268, 2147719.2630342296, 2173613.785833598, 2171783.658248346, 2174834.1027328833, 2171117.731541223, 2196372.820858347, 2197206.6219102805, 2199046.9483062564, 2196052.4385666912, 2192704.67480524, 2208529.590789294, 2205864.1133839414, 2183721.8350940985, 2202038.811262605, 2205940.3003874687, 2192340.587566247, 2192987.082544736, 2195590.2454319187, 2204285.211647194, 2182803.301716025, 2181542.182702076, 2182604.8827886744, 2182889.541365252, 2192867.2967214254, 2197867.202712773, 2184796.1416530483, 2172075.812262989, 2184812.7519577546, 2205709.4415609967, 2231108.4190306216, 2223543.0902620917, 2223089.726215406, 2249556.3799583, 2231931.2785991356, 2234584.128253095, 2224092.3283438473, 2179444.0226333323, 2200571.983942881, 2215852.67787044, 2241457.394222079, 2236606.436464166, 2219010.571181928, 2160473.6137294155, 2172277.122664803, 2203808.0675141676, 2245512.2454371736, 2272859.4895755523, 2262298.5043490785, 2304593.890657759, 2385602.482145187, 2406437.094425311, 2354191.0084879366, 2345944.4449839075, 2328311.0434482996, 2339937.194798185, 2303999.6798922536, 2334439.9144918076, 2343493.542620149, 2358356.6658474375, 2352430.5311444793, 2331555.1272336077, 2339142.4030476953, 2367470.4126521256, 2298505.31298285, 2277318.8375335196, 2293516.0552240554, 2284944.482982655, 2285769.6736936574, 2299717.484981694, 2307401.301052968, 2343401.4039207585, 2351208.9957684465, 2328789.8135001725, 2253900.997990464, 2154903.6018178645, 2058395.1652036235, 2050822.5218889168, 2150785.829722633, 2232597.197994307, 2243884.106608877, 2225338.8904258357, 2147440.0949036055, 2210959.6291036652, 2196148.770860243, 2169060.427201722, 2231290.5401257584, 2219025.9297419083, 2234602.4692802266, 2254893.558748617, 2252581.45559409, 2269843.4565596264, 2300774.8223659676, 2308284.7087121555, 2286567.9233566993, 2310505.2048810814, 2273355.694952801, 2267431.727111051, 2271006.9947442273, 2243616.9952159976, 2176227.530359002, 2158238.3153084293, 2198003.5159122534, 2185324.174192645, 2234295.89312969, 2262285.8014443773, 2250030.0390663156, 2236828.235550775, 2222056.0951210787, 2222654.9394911733, 2220602.9825901017, 2228114.7432989758, 2205607.2696906207, 2249567.022566911, 2269856.388835122, 2276479.7226731973, 2217856.8093620776, 2202670.080124981, 2237743.902414426, 2303655.6865759576, 2325074.3051036336, 2306020.378213981, 2335635.1215544036, 2346674.603641611, 2330725.9851573324, 2363266.483137419, 2354151.4431513124, 2421760.9407454864, 2431406.571694093, 2435612.100981403, 2399974.3862786377, 2377825.500548233, 2396152.4540984444, 2361709.42002822, 2309811.744581609, 2350112.2769003036, 2343934.5853558592, 2403079.1928568273, 2406237.1019728645, 2422649.9614195055, 2421504.3080602223, 2415391.0550196897, 2440721.6887110784, 2443811.248539826, 2427340.828575096, 2477727.7625457044, 2453427.5938607263, 2429430.973502162, 2456936.7110680095, 2449282.97043037, 2434812.670738237, 2404114.077688293, 2411839.152384226, 2345839.407737195, 2367382.3151101037, 2378555.0473433393, 2444283.5256158994, 2415804.633868099, 2375689.6768344, 2394253.6495570634, 2395558.7088327366, 2406737.9650251484, 2404271.3122636927, 2417917.741010234, 2474436.5050764, 2461524.589529835, 2437694.535535541, 2344126.6756070056, 2340026.5308011896, 2317436.439919997, 2248679.587640339, 2222111.306948366, 2230673.526702477, 2249378.9996668044, 2160607.544927468, 2203714.7394136013, 2150934.528564834, 2155772.1988137523, 2121289.8988776277, 2134937.866661448, 2186071.3811887926, 2153985.5273642926, 2163973.3142621755, 2095623.94909907, 2166267.988832835, 2156925.113955277, 2166033.8839943134, 2103389.8928809413, 2053697.2981833671, 2057872.1966882218, 1973553.8401311575, 1917116.6484909013, 1904971.1103027032, 1897610.4918278966, 1904194.3918369254, 1919493.7569587263, 1965303.933105308, 2035918.3717634142, 2016185.385027634, 2021307.0415218764, 2081741.45094845, 2058138.7552021006, 2067415.313755588, 2099158.833510158, 2106610.583206479, 2100569.358290622, 2143856.0909673627, 2153236.8963914425, 2167947.30936541, 2181551.382272304, 2175104.832273381, 2158532.019911122, 2184332.588909223, 2181293.472713284, 2215915.101653025, 2242499.5356803834, 2254276.2940952578, 2274144.84330752, 2280962.124022795, 2297235.835711029, 2317816.822110658, 2313294.3957786355, 2282100.552822662, 2303024.3475386733, 2303390.198308586, 2330653.7644402673, 2330740.02075668, 2329062.793635685, 2359864.645545214, 2373309.2608213173, 2375630.5482263886, 2422616.5006972454, 2382089.2578422204, 2373138.750315991, 2370985.5381279495, 2385920.986151241, 2426972.9835809334, 2425400.185105009, 2435842.413939044, 2446483.657316549, 2410807.659437175, 2418734.872264061, 2415463.1326051927, 2393918.169863541, 2393907.9862081315, 2385193.0968489614, 2366547.384156486, 2328793.675179695, 2357030.4195942907, 2383502.6658560913, 2344267.8825591574, 2317910.027479723, 2289743.718559348, 2318616.461758785, 2308655.6098286947, 2346731.9603068843, 2341493.3283662186, 2338360.09344296, 2323513.542077792, 2343853.741366216, 2309368.3708418803, 2324232.8998569977, 2321473.762946091, 2347536.721922909, 2332515.0060971207, 2361081.257685195, 2382173.094871392, 2401625.3680382925, 2402271.196044805, 2407870.110467878, 2394305.779532079, 2400998.506777943, 2393832.940356001, 2405818.0008240025, 2432728.1789680487, 2453428.558409859, 2441142.7995990478, 2393803.8494719435, 2379822.0587035893, 2376743.075159396, 2378721.905952115, 2376350.0279842056, 2348500.9785400024, 2371986.5161856874, 2376018.951119565, 2317548.620840855, 2339159.277278673, 2258186.2901687464, 2240211.896914653, 2281115.641408909, 2324426.8294444694, 2347197.676947101, 2371244.540637435, 2355837.3437168994, 2370528.7355397968, 2372685.252913729, 2400013.7027135333, 2436099.699936661, 2437641.1357925585, 2424459.2433396946, 2433215.698070585, 2425983.8201400666, 2452733.6175461616, 2456235.97674032, 2474782.9466228634, 2448413.0502699353, 2456740.1565757273, 2465320.4672883824, 2463399.9102876484, 2476049.848831494, 2495504.82998758, 2523886.575558219, 2525745.5448062606, 2503918.456960516, 2500684.8109055962, 2516694.6153587145, 2535079.157397004, 2527599.0729790786, 2539386.8693517684, 2528733.7634224882, 2533812.3388062743, 2533203.001170298, 2535801.0387332006, 2520928.724646336, 2521521.8161831247, 2521906.3806449864, 2515463.4694771525, 2509866.113714695, 2516901.1268733223, 2498398.643613267, 2494346.9691169774, 2497425.4149255585, 2493497.290246495, 2474211.768660079, 2472951.763252106, 2454151.963312686, 2455095.7459053216, 2490322.0754988687, 2487508.551287482, 2466619.9237121902, 2408072.106113298, 2445971.0060987337, 2421925.1245252956, 2428887.808913216, 2463000.066563421, 2474012.6475645206, 2469733.1243291423, 2473697.0031921645, 2494419.2567438604, 2524634.8742029434, 2521088.384912755, 2505864.795345365, 2524448.748716268, 2543077.7142379563, 2517394.2963543944, 2539194.4344402766, 2556624.765096201, 2549685.5726216077, 2558154.9678312712, 2540558.2057484426, 2523763.1722001433, 2552571.3900321973, 2531112.8747954625, 2538896.4928395683, 2524786.571501483, 2512391.0250391844, 2500047.701427525, 2523809.899583579, 2540715.031006925, 2520862.7737904727, 2528396.931346737, 2565888.6694162106, 2561556.5511207646, 2551933.177413769, 2545017.491044527, 2498018.436284943, 2497591.9290742804, 2471762.0156412586, 2433730.969178754, 2424105.2419571155, 2420359.179648476, 2482879.678072924, 2496743.4757231586, 2477101.6897650133, 2431079.512170377, 2432572.17231469, 2382928.426869315, 2425069.2334190924, 2434195.6039325376, 2458156.0286347587, 2449464.6075663157, 2479871.6823044033, 2502954.384843261, 2496974.409958348, 2510001.4371058084, 2500925.582560179, 2486514.196333168, 2462517.7426817627, 2430721.1527711097, 2430836.0875631613, 2465630.418726963, 2470961.477092449, 2513651.941164482, 2513488.1344870813, 2531716.6484451545, 2523745.2993249865, 2561655.7803164753, 2553215.076538854, 2543105.4509399156, 2546897.447511706, 2559937.1750847246, 2582456.9341241713, 2581263.1324858638, 2575520.727624582, 2582267.813872462, 2607158.0751167038, 2597158.0678613423, 2577401.1647995487, 2553398.065541156, 2580853.270828047, 2613018.6657455564, 2636094.9051960707, 2666314.4234566363, 2669342.348495965, 2664854.5923025655, 2671801.6989610074, 2678412.8059863746, 2701305.1971434704, 2688014.824876563, 2693653.6265254356, 2705030.1962929466, 2714425.312809368, 2737117.2484887335, 2768735.0367507525, 2807732.790563498, 2806075.5313614327, 2796136.316474698, 2764570.797484681, 2752249.0128794475, 2766136.4471456604, 2777259.951215537, 2758608.2860861, 2775925.829803487, 2790080.4418738903, 2802273.9431598447, 2824677.944269236, 2836971.162137521, 2882761.133891714, 2888483.9728676877, 2897963.891530289, 2870901.3327981248, 2884259.3663623994, 2916351.29044489, 2905707.4389044303, 2864156.556605367, 2861127.0006743614, 2841744.364635576, 2844295.654026592, 2876750.7843126664, 2864028.679417698, 2866700.7873820285, 2859349.634281208, 2854058.6629283484, 2852743.41258167, 2847111.251420308, 2846321.9247811437, 2855937.876698767, 2880055.3116472643, 2882715.023224024, 2898967.6714424766, 2901059.490023041, 2901731.002312226, 2838545.9938258785, 2857488.5844948553, 2848120.347547587, 2859390.009320572, 2882778.6867849766, 2919618.307448216, 2941963.80921968, 2946057.556828256, 2951696.2796920957, 3008356.3955404656, 3036108.753213276, 3009134.7671994525, 3008674.2288497193, 3013057.1416114382, 3041589.945561551, 3026069.489070628, 2989273.8933599168, 2989520.5994494855, 3016647.0261369883, 3012208.1008729734, 3013486.9655716536, 3019645.31474876, 3023230.890446949, 3058235.8932571127, 3083708.69191328, 3072959.7243195754, 3084992.3948179185, 3122844.823327129, 3167260.8997980873, 3163369.9264550046, 3145427.882769747, 3107427.4866518723, 3136787.094915878, 3156423.252657889, 3194144.3081434965, 3191060.271286931, 3186708.8984476225, 3205550.907178994, 3187136.828358894, 3203452.0999595188, 3119912.2020570035, 3155949.174683798, 3164505.332453196, 3186443.6871235585, 3174934.391101095, 3203296.987573983, 3245051.0225295024, 3266079.8030059705, 3292106.288871362, 3297177.68234173, 3302201.197095726, 3325101.406725084, 3345133.741307848, 3344159.0675407234, 3371974.4472522167, 3400796.4658220867, 3313762.439205707, 3295589.3392138146, 3359591.703494862, 3364803.0064424262, 3341150.76871502, 3349209.7032259693, 3377350.450970183, 3371371.3250075, 3395029.6941088317, 3408430.9371080548, 3425987.4741205648, 3392091.5893161986, 3319377.1182729127, 3366854.6772088525, 3303733.3146336772, 3290179.2529811533, 3252324.092204782, 3222133.314914852, 3162808.701385437, 3199299.7427316136, 3232403.142792549, 3261720.131970168, 3289694.4937514653, 3277078.6060734303, 3301263.5615555947, 3287976.0877283937, 3329871.916978026, 3330233.416679272, 3341577.41843725, 3341529.8703623563, 3391204.896248093, 3370900.570645714, 3422864.0724522746, 3392501.898716589, 3373527.181519059, 3313684.346022378, 3309165.6179701085, 3331563.8504516752, 3365050.418508834, 3392865.4564557904, 3401049.273823993, 3418738.502946049, 3398925.619842228, 3330323.8239060706, 3357130.617851155, 3400920.6410459, 3404550.781932814, 3401257.801003463, 3334329.2187113985, 3320847.6407762193, 3293618.6167639527, 3339935.60968844, 3357205.87447529, 3350129.842037543, 3328420.9753984073, 3325794.1602177527, 3350620.890268682, 3381847.563193218, 3409182.545908941, 3408414.6075414955, 3366611.0594629906, 3356016.7696820665, 3385542.7751740376, 3348190.5209798235, 3419425.688541743, 3422678.0955357524, 3446505.2659936175, 3461019.2993370695, 3467142.1787486053, 3469339.111623753, 3449203.469213424, 3458326.539872318, 3429182.2161543197, 3379624.1572500924, 3341460.967137758, 3348403.1242595315, 3366235.9937144513, 3367375.1349511016, 3383421.1103385063, 3378631.835369063, 3396265.788825049, 3413699.8025040114, 3448977.2071291516, 3463442.730260594, 3432395.611578696, 3460545.100297697, 3477748.495784778, 3479981.217548829, 3481738.3925551977, 3478383.8853683188, 3494213.6630222336, 3507203.597006418, 3468687.0271037216, 3466396.889068356, 3414102.520199691, 3429357.6837025965, 3384023.468984469, 3387195.061541295, 3518601.933279749, 3532332.039912197, 3558300.0111136935, 3534085.227056659, 3483999.8624694957, 3525611.506968551, 3529309.1421060795, 3547411.7877227026, 3562738.2650257526, 3542810.169691753, 3531667.807814825, 3563260.2345067062, 3547563.4942649896, 3536478.4954709685, 3564879.468391906, 3551581.4292266793, 3539647.692581501, 3594373.3427493144, 3597411.2099192794, 3634760.2676240704, 3651207.464240432, 3651363.5115500167, 3584140.6302114865, 3620369.333060771, 3586153.412454272, 3563128.4023305923, 3562454.8205865943, 3600640.638196675, 3617286.1989429677, 3640661.0294661643, 3684175.2787726633, 3717707.9098149193, 3714899.4968697797, 3726704.712343314, 3757422.9477142002, 3774840.648183575, 3747287.371337198, 3732138.758539144, 3732737.191301666, 3710294.0317194117, 3689401.7526108776, 3678563.107278713, 3692858.7349469317, 3660213.487987657, 3720912.497989777, 3743358.2117320187, 3749241.729596218, 3806159.537246449, 3869242.211539414, 3882788.726326099, 3888010.0562585085, 3935600.332270288, 3982429.7654518457, 3989853.278005949, 4044136.8901143903, 4017009.6378938025, 4025589.690459714, 4070230.7076621866, 4110688.048378664, 4081423.973254386, 4088745.487751307, 4131347.671902945, 4149154.550997922, 4133803.5694450317, 4193578.6924399324, 4135175.944475175, 4081484.272110055, 3927786.037832307, 4028734.526904761, 4014891.1401686827, 3804278.981849704, 3819750.4897951167, 3913377.645633916, 3956947.809705198, 4014750.497402852, 4098143.795577723, 4089265.208254924, 4102435.9401762662, 4109479.930609337, 4146388.6052688314, 4200793.467163214, 4265423.64530266, 4218463.378697275, 4183558.7691107383, 4084010.3401943548, 4102756.2433239943, 4145519.2978934282, 4143706.7201538724, 4164718.0393313915, 4181592.212113481, 4245959.3313201675, 4294014.836456466, 4243378.076632125, 4197943.141098091, 4189587.5672361446, 4164455.836079523, 4093343.171853241, 4129328.9753259933, 4125072.0183844664, 4002622.2274620384, 3909551.6369563374, 4028919.706839698, 3866474.6463624956, 3755330.5542261708, 3826846.465899594, 3693708.417614259, 3770847.7240343224, 3847517.139426515, 3946702.9637171794, 3841998.3590847375, 3826544.9156439486, 3930048.090083495, 3888558.2762371157, 3926237.4104733914, 3908222.518357013, 3912165.9477227833, 3999790.5256979684, 4026731.83453088, 4060326.703385363, 3982770.972749779, 3958313.5140451984, 3856098.5705657257, 3874280.1395858317, 3939675.917931572, 3989030.9806594653, 3965531.3993717437, 4005976.308365388, 3990271.116481054, 3963449.1076674582, 4033852.7371022124, 4085219.398805862, 4075767.6908316645, 4134518.1848122315, 4150372.526503201, 4127238.305533531, 4110970.792936901, 4047910.6083031427, 4068015.266832834, 4060303.485508371, 4038452.720809376, 4098716.8979032505, 4049855.6723908246, 4091588.009591195, 4086808.540922023, 4094461.599027941, 4078790.10702825, 4127095.01432847, 4109652.4216600987, 4175091.009138435, 4228912.520940749, 4242417.234263612, 4330939.960841735, 4304048.083247176, 4299918.752384768, 4347544.88140059, 4388051.550163496, 4376968.417846788, 4431875.553832007, 4415062.157692709, 4456663.793075489, 4387094.680449636, 4428094.866283163, 4356480.368894349, 4312234.586689595, 4222477.401353108, 4267228.944132746, 4229523.013046386, 4296651.682985951, 4282619.290049427, 4286366.681644362, 4186338.6744243987, 4208988.599277823, 4239397.532504356, 4315696.997472924, 4338289.548836358, 4323368.226600034, 4390931.042801724, 4421835.498482898, 4413996.426806185, 4471565.971165433, 4476112.961194763, 4435213.211936611, 4415777.864495622, 4391659.566402514, 4438793.017916807, 4507270.5591818625, 4461968.515836486, 4421067.542910773, 4343794.838909747, 4371068.097421753, 4399553.718564155, 4554094.073674556, 4544352.372784192, 4551822.357916274, 4666834.044931763, 4660713.418040445, 4626006.007262525, 4603195.877936686, 4610084.176164829, 4618978.733261667, 4536512.44446173, 4559722.114830256, 4495031.37560081, 4505803.092917987, 4544150.311038185, 4557199.257519657, 4546241.742544122, 4570618.142421419, 4609229.755624631, 4588908.167657046, 4646302.033223191, 4632579.45164543, 4624109.430075583, 4606622.008926459, 4541720.591000879, 4500112.854389621, 4441416.415734919, 4465939.582678666, 4516852.065384772, 4545282.157169377, 4568027.788282715, 4565664.292716858, 4483689.548108084, 4507094.797199521, 4539337.570267707, 4573801.161286412, 4542261.581076192, 4558611.747749029, 4601159.994196716, 4612531.457959761, 4660936.512370071, 4562724.5842148615, 4689917.13337566, 4653876.8892987985, 4642403.290737378, 4538360.392542326, 4451372.269397355, 4397253.929558527, 4430097.678299684, 4220159.072805027, 4148944.1713940552, 4264620.415568565, 4221756.3377361735, 4363914.412782037, 4343117.637162743, 4228900.973147747, 4217056.409771661, 4242684.456726895, 4294917.101030884, 4139715.79264278, 4355895.864945479, 4241491.549536427, 4079674.6871882044, 4099629.968971628, 4222756.088063346, 4317861.784954879, 4277796.131403209, 4225072.905126255, 4261616.643059863, 4423720.569431651, 4414219.269661745, 4350637.474226057, 4179148.4353211173, 4175516.626461557, 4145824.9551386223, 4194750.984281522, 4181134.968674618, 4040168.319458369, 3984092.0657605655, 3991608.5408172365, 3922485.421296686, 4070867.60594037, 4068146.157996531, 4229925.458884944, 4220691.603037242, 4268825.970610989, 4402426.904428606, 4225893.776139589, 4252243.443227857, 4122059.4899473973, 4158909.4551517605, 4162161.1913498724, 4199753.135162158, 4218032.997012727, 4097971.947253689, 3964673.084105507, 3994793.105887982, 3904160.3891075947, 3798390.293488813, 3685647.5419387273, 3563535.521399298, 3848798.229284301, 3830677.253074342, 3878706.776398205, 3912325.7460711454, 3904268.4438218744, 3771689.3971938547, 3960752.4687736826, 4049897.385125376, 4109539.322953442, 4131172.499694385, 4159325.520667443, 4141220.898736625, 4072188.730013362, 4175003.352979485, 4192714.545719295, 4225362.499309211, 4148285.4178650286, 4045982.176741886, 4042409.5484743956, 4060194.868430336, 4121225.8327918006, 4072687.7957701725, 4032688.313785283, 4201013.656382686, 4256277.140464326, 4192544.104454585, 4239652.021516541, 4316176.771938932, 4274784.876031996, 4197494.235515183, 4169398.846646185, 4185116.3058195845, 4256616.3388828635, 4251145.976546447, 4220113.66897363, 4232633.861954601, 4246761.891639123, 4243710.981093397, 4194543.7966325795, 4236028.926226089, 4253330.421589108, 4257466.1364632705, 4313209.052900746, 4327259.658195171, 4316867.688638481, 4305735.346298598, 4285505.825837256, 4249270.448438495, 4193408.961630088, 4205841.729236288, 4265029.293484229, 4226261.794578448, 4260378.1161630275, 4251318.519006293, 4253301.549828267, 4259501.352649881, 4280177.037117566, 4343056.998137802, 4381202.331958912, 4263910.164408851, 4262192.9344535135, 4281791.655963087, 4280488.288039071, 4296797.231134831, 4326031.392834752, 4415148.7227143515, 4415011.675399689, 4432330.582936453, 4399799.976028114, 4425841.438289774, 4408793.944550366, 4374703.280009173, 4393796.086277956, 4382065.749881236, 4406601.728120372, 4400077.1705753915, 4446671.154276305, 4442748.50434762, 4451880.891876572, 4447724.243935882, 4498855.871807482, 4464582.815531267, 4450831.072873602, 4466401.915890836, 4478856.433786932, 4389267.160104794, 4365594.201299033, 4370365.822051617, 4470696.026374619, 4447389.376044044, 4351365.5487740785, 4345138.037482823, 4304572.284093203, 4287877.158866343, 4122982.061193925, 4163270.8730314095, 4226190.18044231, 4274100.564652499, 4187115.234784331, 4134377.4429463, 4160400.4941080837, 4117448.2097858503, 4062487.144674493, 4059923.307465653, 4060064.369619096, 4023690.505876102, 4022335.4319957765, 3944965.49613308, 3812320.535272322, 3923726.99663395, 3945819.157356413, 3993979.1273958366, 4062505.876212092, 4147870.275509536, 4158741.6368872104, 4125461.303064728, 4160755.1705929427, 4153909.0813750033, 4209167.827754289, 4273299.76266503, 4273115.76964613, 4289500.527875058, 4288141.156622344, 4293843.331158956, 4219908.773119943, 4248081.868239503, 4244859.76454995, 4239018.682617608, 4280793.041225751, 4293239.969433308, 4334690.212541767, 4341988.722393823, 4315509.585426964, 4355045.021404162, 4413605.518063155, 4410161.8113425905, 4450402.307698305, 4480496.357299164, 4470333.385356733, 4461220.1405191505, 4444617.324061206, 4452182.997734895, 4470933.578934729, 4501401.83162744, 4496530.463000244, 4361261.871134286, 4408684.755782524, 4389469.205269559, 4392478.448238322, 4350453.798033746, 4296215.0372038735, 4254520.65723073, 4115862.6808813023, 4164925.5063803643, 4178892.505267057, 4266432.192938195, 4219078.433864379, 4162849.51675675, 4246088.357830923, 4091105.035692625, 4106969.6215426736, 4157083.0834981543, 4224014.540033116, 4192241.246143865, 4224579.204547021, 4233684.562375316, 4109468.8617690755, 4160925.619348188, 4140839.286209975, 4163640.665389768, 4226301.017985863, 4226349.8886627685, 4196633.961291285, 4220227.6606930755, 4315792.139268336, 4306307.963144446, 4311451.66417109, 4337699.017601885, 4410013.634865281, 4422238.569429818, 4418556.7564763315, 4382230.781326414, 4407944.901911386, 4409808.143855336, 4417118.7959770635, 4358357.515709512, 4352356.693949715, 4267201.967877686, 4335115.974933483, 4337203.347163391, 4302773.011498251, 4315666.046513631, 4301917.88362263, 4230483.883130485, 4237617.584879727, 4282280.444239683, 4288297.742205414, 4240436.287087563, 4284017.719261135, 4291719.948937947, 4337371.825360987, 4358011.259896916, 4400889.914883813, 4411536.26642973, 4420800.727896874, 4341273.80450651, 4344971.604635992, 4339015.988161453, 4357576.808126774, 4485400.664612982, 4537741.689436979, 4574913.148797385, 4520045.341236787, 4528944.438488158, 4522531.45174841, 4566761.770669224, 4616540.966389876, 4626465.755333846, 4638118.574026408, 4672568.500779979, 4669658.190265195, 4695394.944359351, 4703857.425420455, 4677361.40922786, 4698694.460207486, 4722817.690983668, 4720064.235039917, 4734118.723951882, 4701705.99925473, 4688251.482870641, 4653071.201958579, 4706420.557983514, 4709045.775540019, 4730552.1175295375, 4702472.906649596, 4661055.803159572, 4640076.068843526, 4642086.8898681, 4626783.007609383, 4684257.723204086, 4679746.146599042, 4690836.261827748, 4716576.334565779, 4746685.385778461, 4741616.178514706, 4797926.406887645, 4807765.636161229, 4838613.549296679, 4879372.403479169, 4867479.920642734, 4928083.737023723, 4927992.420631981, 5024313.098139383, 5019459.007916083, 4946748.263175236, 4961422.098975882, 5078352.680373316, 5073606.350023028, 5142206.298569649, 5187428.510965186, 5238053.812572215, 5254118.967691496, 5227140.643668995, 5362400.251961826, 5363423.246888809, 5312051.710336643, 5339160.109710602, 5335927.07033442, 5417404.470783708, 5464559.881363571, 5485975.799894094, 5436774.204047568, 5334955.345767143, 5409588.4458149765, 5468769.695437279, 5616672.513726483, 5704974.516367275, 6030230.125699442, 6323634.474265787, 6001220.019650879, 6087387.268095054, 6085454.796194292, 6223046.956230633, 6241730.919112019, 6264500.224799317, 6319580.044826749, 6294541.675218621, 6432526.465718032, 6593707.178660847, 6523429.849079651, 6429148.646555822, 6096430.327694107, 5906508.182304068, 5870212.301766289, 5427387.232279454, 5385166.8986398075, 5737529.953081951, 5624123.773381147, 5764393.601405503, 5544180.485110796, 5452020.037341244, 4957972.977954423, 5230590.675263013, 4990871.537168, 4483496.427206885, 4715764.131548175, 4129111.353125215, 4247204.185794044, 4020433.411994657, 4215586.27952885, 4114768.1302028107, 4166932.4131828914, 4527645.518396579, 4595603.420196187, 4748529.570498036, 4572267.373370037, 4628734.263422531, 4664626.675411893, 4424869.65095591, 4387127.7373396605, 4406392.285841355, 4731498.450620388, 4794806.988972214, 4882265.326707452, 4955394.203795366, 5238747.137138765, 5530738.204755441, 5581215.414085159, 5682532.1143178465, 5725697.274013328, 5678974.934874023, 5415508.121098165, 5599147.590695167, 5581584.504536991, 5645924.976363968, 5794800.663294342, 5646447.610434147, 5877171.930880256, 5928044.836741306, 5531577.210526366, 5702414.91119362, 5735392.437088538, 5790546.783862915, 5834929.561654668, 5973686.387233822, 5986561.462657763, 5898479.442194628, 5822478.911703011, 5884934.390768308, 5897829.52210802, 6008638.034344244, 5991699.518388218, 6095702.775112931, 6077174.332572912, 6050216.854853469, 6066974.37251517, 6081803.410465286, 6036547.360748559, 6139952.077489344, 6329476.313099809, 6308073.831277147, 6363667.383805005, 6307478.608563587, 6453953.971756994, 6698358.0013957, 6731267.7265433865, 6955454.526789702, 6598141.607804101, 6555711.078093918, 6723782.051013287, 6789926.941085652, 6825576.598181134, 6854052.221247333, 6844881.410773654, 6892511.214176408, 6973818.059407219, 6788667.849373476, 6880320.414548331, 6678339.6937957425, 6868262.878500736, 7100169.887514506, 7298639.685278635, 7532743.80160012, 8098166.293721345, 8062068.471552429, 8101398.273430767, 8246290.9001790965, 8641330.832513861, 8424676.589657169, 8483218.88698636, 8513746.341726938, 8379200.040491093, 8340426.010439968, 8906489.08450716, 8680705.603485888, 8717731.991247043, 8365483.659887994, 8150636.527890737, 8492492.082704218, 8271220.54209946, 8376895.42638663, 8370211.766459399, 8371640.770526391, 8478727.579743616, 8513729.499572398, 8588616.777872315, 8664425.879428176, 8506041.841826716, 8450439.135460462, 8256672.947925769], \"yaxis\": \"y\"}],\n",
              "                        {\"legend\": {\"tracegroupgap\": 0}, \"template\": {\"data\": {\"bar\": [{\"error_x\": {\"color\": \"#2a3f5f\"}, \"error_y\": {\"color\": \"#2a3f5f\"}, \"marker\": {\"line\": {\"color\": \"#E5ECF6\", \"width\": 0.5}}, \"type\": \"bar\"}], \"barpolar\": [{\"marker\": {\"line\": {\"color\": \"#E5ECF6\", \"width\": 0.5}}, \"type\": \"barpolar\"}], \"carpet\": [{\"aaxis\": {\"endlinecolor\": \"#2a3f5f\", \"gridcolor\": \"white\", \"linecolor\": \"white\", \"minorgridcolor\": \"white\", \"startlinecolor\": \"#2a3f5f\"}, \"baxis\": {\"endlinecolor\": \"#2a3f5f\", \"gridcolor\": \"white\", \"linecolor\": \"white\", \"minorgridcolor\": \"white\", \"startlinecolor\": \"#2a3f5f\"}, \"type\": \"carpet\"}], \"choropleth\": [{\"colorbar\": {\"outlinewidth\": 0, \"ticks\": \"\"}, \"type\": \"choropleth\"}], \"contour\": [{\"colorbar\": {\"outlinewidth\": 0, \"ticks\": \"\"}, \"colorscale\": [[0.0, \"#0d0887\"], [0.1111111111111111, \"#46039f\"], [0.2222222222222222, \"#7201a8\"], [0.3333333333333333, \"#9c179e\"], [0.4444444444444444, \"#bd3786\"], [0.5555555555555556, \"#d8576b\"], [0.6666666666666666, \"#ed7953\"], [0.7777777777777778, \"#fb9f3a\"], [0.8888888888888888, \"#fdca26\"], [1.0, \"#f0f921\"]], \"type\": \"contour\"}], \"contourcarpet\": [{\"colorbar\": {\"outlinewidth\": 0, \"ticks\": \"\"}, \"type\": \"contourcarpet\"}], \"heatmap\": [{\"colorbar\": {\"outlinewidth\": 0, \"ticks\": \"\"}, \"colorscale\": [[0.0, \"#0d0887\"], [0.1111111111111111, \"#46039f\"], [0.2222222222222222, \"#7201a8\"], [0.3333333333333333, \"#9c179e\"], [0.4444444444444444, \"#bd3786\"], [0.5555555555555556, \"#d8576b\"], [0.6666666666666666, \"#ed7953\"], [0.7777777777777778, \"#fb9f3a\"], [0.8888888888888888, \"#fdca26\"], [1.0, \"#f0f921\"]], \"type\": \"heatmap\"}], \"heatmapgl\": [{\"colorbar\": {\"outlinewidth\": 0, \"ticks\": \"\"}, \"colorscale\": [[0.0, \"#0d0887\"], [0.1111111111111111, \"#46039f\"], [0.2222222222222222, \"#7201a8\"], [0.3333333333333333, \"#9c179e\"], [0.4444444444444444, \"#bd3786\"], [0.5555555555555556, \"#d8576b\"], [0.6666666666666666, \"#ed7953\"], [0.7777777777777778, \"#fb9f3a\"], [0.8888888888888888, \"#fdca26\"], [1.0, \"#f0f921\"]], \"type\": \"heatmapgl\"}], \"histogram\": [{\"marker\": {\"colorbar\": {\"outlinewidth\": 0, \"ticks\": \"\"}}, \"type\": \"histogram\"}], \"histogram2d\": [{\"colorbar\": {\"outlinewidth\": 0, \"ticks\": \"\"}, \"colorscale\": [[0.0, \"#0d0887\"], [0.1111111111111111, \"#46039f\"], [0.2222222222222222, \"#7201a8\"], [0.3333333333333333, \"#9c179e\"], [0.4444444444444444, \"#bd3786\"], [0.5555555555555556, \"#d8576b\"], [0.6666666666666666, \"#ed7953\"], [0.7777777777777778, \"#fb9f3a\"], [0.8888888888888888, \"#fdca26\"], [1.0, \"#f0f921\"]], \"type\": \"histogram2d\"}], \"histogram2dcontour\": [{\"colorbar\": {\"outlinewidth\": 0, \"ticks\": \"\"}, \"colorscale\": [[0.0, \"#0d0887\"], [0.1111111111111111, \"#46039f\"], [0.2222222222222222, \"#7201a8\"], [0.3333333333333333, \"#9c179e\"], [0.4444444444444444, \"#bd3786\"], [0.5555555555555556, \"#d8576b\"], [0.6666666666666666, \"#ed7953\"], [0.7777777777777778, \"#fb9f3a\"], [0.8888888888888888, \"#fdca26\"], [1.0, \"#f0f921\"]], \"type\": \"histogram2dcontour\"}], \"mesh3d\": [{\"colorbar\": {\"outlinewidth\": 0, \"ticks\": \"\"}, \"type\": \"mesh3d\"}], \"parcoords\": [{\"line\": {\"colorbar\": {\"outlinewidth\": 0, \"ticks\": \"\"}}, \"type\": \"parcoords\"}], \"pie\": [{\"automargin\": true, \"type\": \"pie\"}], \"scatter\": [{\"marker\": {\"colorbar\": {\"outlinewidth\": 0, \"ticks\": \"\"}}, \"type\": \"scatter\"}], \"scatter3d\": [{\"line\": {\"colorbar\": {\"outlinewidth\": 0, \"ticks\": \"\"}}, \"marker\": {\"colorbar\": {\"outlinewidth\": 0, \"ticks\": \"\"}}, \"type\": \"scatter3d\"}], \"scattercarpet\": [{\"marker\": {\"colorbar\": {\"outlinewidth\": 0, \"ticks\": \"\"}}, \"type\": \"scattercarpet\"}], \"scattergeo\": [{\"marker\": {\"colorbar\": {\"outlinewidth\": 0, \"ticks\": \"\"}}, \"type\": \"scattergeo\"}], \"scattergl\": [{\"marker\": {\"colorbar\": {\"outlinewidth\": 0, \"ticks\": \"\"}}, \"type\": \"scattergl\"}], \"scattermapbox\": [{\"marker\": {\"colorbar\": {\"outlinewidth\": 0, \"ticks\": \"\"}}, \"type\": \"scattermapbox\"}], \"scatterpolar\": [{\"marker\": {\"colorbar\": {\"outlinewidth\": 0, \"ticks\": \"\"}}, \"type\": \"scatterpolar\"}], \"scatterpolargl\": [{\"marker\": {\"colorbar\": {\"outlinewidth\": 0, \"ticks\": \"\"}}, \"type\": \"scatterpolargl\"}], \"scatterternary\": [{\"marker\": {\"colorbar\": {\"outlinewidth\": 0, \"ticks\": \"\"}}, \"type\": \"scatterternary\"}], \"surface\": [{\"colorbar\": {\"outlinewidth\": 0, \"ticks\": \"\"}, \"colorscale\": [[0.0, \"#0d0887\"], [0.1111111111111111, \"#46039f\"], [0.2222222222222222, \"#7201a8\"], [0.3333333333333333, \"#9c179e\"], [0.4444444444444444, \"#bd3786\"], [0.5555555555555556, \"#d8576b\"], [0.6666666666666666, \"#ed7953\"], [0.7777777777777778, \"#fb9f3a\"], [0.8888888888888888, \"#fdca26\"], [1.0, \"#f0f921\"]], \"type\": \"surface\"}], \"table\": [{\"cells\": {\"fill\": {\"color\": \"#EBF0F8\"}, \"line\": {\"color\": \"white\"}}, \"header\": {\"fill\": {\"color\": \"#C8D4E3\"}, \"line\": {\"color\": \"white\"}}, \"type\": \"table\"}]}, \"layout\": {\"annotationdefaults\": {\"arrowcolor\": \"#2a3f5f\", \"arrowhead\": 0, \"arrowwidth\": 1}, \"coloraxis\": {\"colorbar\": {\"outlinewidth\": 0, \"ticks\": \"\"}}, \"colorscale\": {\"diverging\": [[0, \"#8e0152\"], [0.1, \"#c51b7d\"], [0.2, \"#de77ae\"], [0.3, \"#f1b6da\"], [0.4, \"#fde0ef\"], [0.5, \"#f7f7f7\"], [0.6, \"#e6f5d0\"], [0.7, \"#b8e186\"], [0.8, \"#7fbc41\"], [0.9, \"#4d9221\"], [1, \"#276419\"]], \"sequential\": [[0.0, \"#0d0887\"], [0.1111111111111111, \"#46039f\"], [0.2222222222222222, \"#7201a8\"], [0.3333333333333333, \"#9c179e\"], [0.4444444444444444, \"#bd3786\"], [0.5555555555555556, \"#d8576b\"], [0.6666666666666666, \"#ed7953\"], [0.7777777777777778, \"#fb9f3a\"], [0.8888888888888888, \"#fdca26\"], [1.0, \"#f0f921\"]], \"sequentialminus\": [[0.0, \"#0d0887\"], [0.1111111111111111, \"#46039f\"], [0.2222222222222222, \"#7201a8\"], [0.3333333333333333, \"#9c179e\"], [0.4444444444444444, \"#bd3786\"], [0.5555555555555556, \"#d8576b\"], [0.6666666666666666, \"#ed7953\"], [0.7777777777777778, \"#fb9f3a\"], [0.8888888888888888, \"#fdca26\"], [1.0, \"#f0f921\"]]}, \"colorway\": [\"#636efa\", \"#EF553B\", \"#00cc96\", \"#ab63fa\", \"#FFA15A\", \"#19d3f3\", \"#FF6692\", \"#B6E880\", \"#FF97FF\", \"#FECB52\"], \"font\": {\"color\": \"#2a3f5f\"}, \"geo\": {\"bgcolor\": \"white\", \"lakecolor\": \"white\", \"landcolor\": \"#E5ECF6\", \"showlakes\": true, \"showland\": true, \"subunitcolor\": \"white\"}, \"hoverlabel\": {\"align\": \"left\"}, \"hovermode\": \"closest\", \"mapbox\": {\"style\": \"light\"}, \"paper_bgcolor\": \"white\", \"plot_bgcolor\": \"#E5ECF6\", \"polar\": {\"angularaxis\": {\"gridcolor\": \"white\", \"linecolor\": \"white\", \"ticks\": \"\"}, \"bgcolor\": \"#E5ECF6\", \"radialaxis\": {\"gridcolor\": \"white\", \"linecolor\": \"white\", \"ticks\": \"\"}}, \"scene\": {\"xaxis\": {\"backgroundcolor\": \"#E5ECF6\", \"gridcolor\": \"white\", \"gridwidth\": 2, \"linecolor\": \"white\", \"showbackground\": true, \"ticks\": \"\", \"zerolinecolor\": \"white\"}, \"yaxis\": {\"backgroundcolor\": \"#E5ECF6\", \"gridcolor\": \"white\", \"gridwidth\": 2, \"linecolor\": \"white\", \"showbackground\": true, \"ticks\": \"\", \"zerolinecolor\": \"white\"}, \"zaxis\": {\"backgroundcolor\": \"#E5ECF6\", \"gridcolor\": \"white\", \"gridwidth\": 2, \"linecolor\": \"white\", \"showbackground\": true, \"ticks\": \"\", \"zerolinecolor\": \"white\"}}, \"shapedefaults\": {\"line\": {\"color\": \"#2a3f5f\"}}, \"ternary\": {\"aaxis\": {\"gridcolor\": \"white\", \"linecolor\": \"white\", \"ticks\": \"\"}, \"baxis\": {\"gridcolor\": \"white\", \"linecolor\": \"white\", \"ticks\": \"\"}, \"bgcolor\": \"#E5ECF6\", \"caxis\": {\"gridcolor\": \"white\", \"linecolor\": \"white\", \"ticks\": \"\"}}, \"title\": {\"x\": 0.05}, \"xaxis\": {\"automargin\": true, \"gridcolor\": \"white\", \"linecolor\": \"white\", \"ticks\": \"\", \"title\": {\"standoff\": 15}, \"zerolinecolor\": \"white\", \"zerolinewidth\": 2}, \"yaxis\": {\"automargin\": true, \"gridcolor\": \"white\", \"linecolor\": \"white\", \"ticks\": \"\", \"title\": {\"standoff\": 15}, \"zerolinecolor\": \"white\", \"zerolinewidth\": 2}}}, \"title\": {\"text\": \"portfolio overall daily worth vs. time\"}, \"xaxis\": {\"anchor\": \"y\", \"domain\": [0.0, 1.0], \"title\": {\"text\": \"x\"}}, \"yaxis\": {\"anchor\": \"x\", \"domain\": [0.0, 1.0], \"title\": {\"text\": \"y\"}}},\n",
              "                        {\"responsive\": true}\n",
              "                    ).then(function(){\n",
              "                            \n",
              "var gd = document.getElementById('70c7eb5a-3a53-4c56-b908-e76410603102');\n",
              "var x = new MutationObserver(function (mutations, observer) {{\n",
              "        var display = window.getComputedStyle(gd).display;\n",
              "        if (!display || display === 'none') {{\n",
              "            console.log([gd, 'removed!']);\n",
              "            Plotly.purge(gd);\n",
              "            observer.disconnect();\n",
              "        }}\n",
              "}});\n",
              "\n",
              "// Listen for the removal of the full notebook cells\n",
              "var notebookContainer = gd.closest('#notebook-container');\n",
              "if (notebookContainer) {{\n",
              "    x.observe(notebookContainer, {childList: true});\n",
              "}}\n",
              "\n",
              "// Listen for the clearing of the current output cell\n",
              "var outputEl = gd.closest('.output');\n",
              "if (outputEl) {{\n",
              "    x.observe(outputEl, {childList: true});\n",
              "}}\n",
              "\n",
              "                        })\n",
              "                };\n",
              "                \n",
              "            </script>\n",
              "        </div>\n",
              "</body>\n",
              "</html>"
            ]
          },
          "metadata": {
            "tags": []
          }
        }
      ]
    },
    {
      "cell_type": "markdown",
      "metadata": {
        "id": "L2ONFl4_PCR2"
      },
      "source": [
        "# TASK #7: UNDERSTAND PORTFOLIO STATISTICAL METRICS (CUMMULATIVE RETURN, AVERAGE DAILY RETURN, AND SHARPE RATIO)"
      ]
    },
    {
      "cell_type": "markdown",
      "metadata": {
        "id": "vkWIchSSZZ2j"
      },
      "source": [
        "![alt text](https://drive.google.com/uc?id=1W_MNP2Qldn3ulrvXivOnjQg3NTf3hNCo)"
      ]
    },
    {
      "cell_type": "markdown",
      "metadata": {
        "id": "O9qTQWZWZZ_n"
      },
      "source": [
        "![alt text](https://drive.google.com/uc?id=12e4Zgxv1FNviJYML88G6cTnlte0bts-4)"
      ]
    },
    {
      "cell_type": "markdown",
      "metadata": {
        "id": "-wyQltQIYWkm"
      },
      "source": [
        "![alt text](https://drive.google.com/uc?id=1QQLWpIJ8uXopJrV40YFKb5H-SxnmsRaj)"
      ]
    },
    {
      "cell_type": "markdown",
      "metadata": {
        "id": "-e-K4SPXkPju"
      },
      "source": [
        "# TASK #8: CALCULATE PORTFOLIO STATISTICAL METRICS (CUMMULATIVE RETURN, AVERAGE DAILY RETURN, AND SHARPE RATIO)"
      ]
    },
    {
      "cell_type": "code",
      "metadata": {
        "id": "441cVMptPzZr"
      },
      "source": [
        ""
      ],
      "execution_count": null,
      "outputs": []
    },
    {
      "cell_type": "code",
      "metadata": {
        "id": "Vd6MiyWm6kXm"
      },
      "source": [
        ""
      ],
      "execution_count": null,
      "outputs": []
    },
    {
      "cell_type": "code",
      "metadata": {
        "id": "YqPKVo7qP35r",
        "outputId": "2f519a73-8c97-445c-b44a-e6b5fffe5d0e",
        "colab": {
          "base_uri": "https://localhost:8080/",
          "height": 246
        }
      },
      "source": [
        "# Cummulative return of the portfolio (Note that we now look for the last net worth of the portfolio compared to it's start value)\n",
        "\n",
        "\n",
        "print(df_portfolio.head(2))\n",
        "print(df_portfolio.tail(2))\n",
        "\n",
        "\n",
        "print('df_portfolio[-1:]: {}'.format(df_portfolio['Daily Worth'][-1:]) )\n",
        "#print('df_portfolio[0]: {}'.format(df_portfolio['Daily Worth'][0]) )\n",
        "#print('df_portfolio[ {}'.format( ((df_portfolio['Daily Worth'][-1:] - df_portfolio['Daily Worth'][0])/df_portfolio['Daily Worth'][0])) )\n",
        "Cummulative_return  =  ((df_portfolio['Daily Worth'][-1:] - df_portfolio['Daily Worth'][0])/df_portfolio['Daily Worth'][0])*100\n",
        "print('Cummulative_return: {}'.format(Cummulative_return.values[0]) )"
      ],
      "execution_count": 169,
      "outputs": [
        {
          "output_type": "stream",
          "text": [
            "         Date           AAPL  ...    Daily Worth  Daily Worth in %\n",
            "0  2012-01-12  109213.000000  ...  999999.000000          0.000000\n",
            "1  2012-01-13  108803.510461  ...  984778.289084         -0.015221\n",
            "\n",
            "[2 rows x 12 columns]\n",
            "            Date           AAPL  ...   Daily Worth  Daily Worth in %\n",
            "2157  2020-08-10  818046.579293  ...  8.450439e+06         -0.006537\n",
            "2158  2020-08-11  793717.982005  ...  8.256673e+06         -0.022930\n",
            "\n",
            "[2 rows x 12 columns]\n",
            "df_portfolio[-1:]: 2158    8.256673e+06\n",
            "Name: Daily Worth, dtype: float64\n",
            "Cummulative_return: 725.6681204606973\n"
          ],
          "name": "stdout"
        }
      ]
    },
    {
      "cell_type": "code",
      "metadata": {
        "id": "OQ5XsTjTZgR3",
        "outputId": "92d3d981-fe21-4f66-de5d-638474945a68",
        "colab": {
          "base_uri": "https://localhost:8080/",
          "height": 35
        }
      },
      "source": [
        "# Calculate the portfolio standard deviation\n",
        "print('Cummulative_return: {}'.format(df_portfolio['Daily Worth in %'].std()) )"
      ],
      "execution_count": 170,
      "outputs": [
        {
          "output_type": "stream",
          "text": [
            "Cummulative_return: 0.014491475546693404\n"
          ],
          "name": "stdout"
        }
      ]
    },
    {
      "cell_type": "code",
      "metadata": {
        "id": "O4z2t-BSZjyl",
        "outputId": "6e6fff09-ce32-4356-b88b-45d15f141b62",
        "colab": {
          "base_uri": "https://localhost:8080/",
          "height": 35
        }
      },
      "source": [
        "# Calculate the average daily return \n",
        "print('Cummulative_return: {}'.format(df_portfolio['Daily Worth in %'].mean()) )"
      ],
      "execution_count": 171,
      "outputs": [
        {
          "output_type": "stream",
          "text": [
            "Cummulative_return: 0.0010836651112905507\n"
          ],
          "name": "stdout"
        }
      ]
    },
    {
      "cell_type": "code",
      "metadata": {
        "id": "BdOQ0kc5ixdY"
      },
      "source": [
        "# Portfolio sharpe ratio\n"
      ],
      "execution_count": null,
      "outputs": []
    },
    {
      "cell_type": "markdown",
      "metadata": {
        "id": "Z-or4p7_kcGF"
      },
      "source": [
        "**MINI CHALLENGE #6:** \n",
        "- **Try at least 3 different random weights allocation, rerun the code and compare sharpe ratios, daily return and cummulative returns.**"
      ]
    },
    {
      "cell_type": "code",
      "metadata": {
        "id": "VMI7vjo5kX0V",
        "outputId": "5211f095-1a56-48a7-cac1-6c5200e02fef",
        "colab": {
          "base_uri": "https://localhost:8080/",
          "height": 35
        }
      },
      "source": [
        "sharp_ratio = df_portfolio['Daily Worth in %'].mean()/ df_portfolio['Daily Worth in %'].std()*np.sqrt(252)\n",
        "print('sharp_ratio: {}'.format(sharp_ratio))"
      ],
      "execution_count": 172,
      "outputs": [
        {
          "output_type": "stream",
          "text": [
            "sharp_ratio: 1.1870875590468632\n"
          ],
          "name": "stdout"
        }
      ]
    },
    {
      "cell_type": "markdown",
      "metadata": {
        "id": "YTqxFEP7xEJl"
      },
      "source": [
        "# **WELL DONE!**"
      ]
    },
    {
      "cell_type": "markdown",
      "metadata": {
        "id": "Y2UYMbaecCcW"
      },
      "source": [
        "# **MINI CHALLENGE SOLUTIONS**"
      ]
    },
    {
      "cell_type": "markdown",
      "metadata": {
        "id": "mj4oaI5va0lF"
      },
      "source": [
        "**MINI CHALLENGE #1 SOLUTION:** \n",
        "- **Use Plotly express to visualize raw stock data and normalized ones** "
      ]
    },
    {
      "cell_type": "code",
      "metadata": {
        "id": "329hiIB9SUN_"
      },
      "source": [
        "# Function to normalize the prices based on the initial price\n",
        "def normalize(df):\n",
        "  x = df.copy()\n",
        "  for i in x.columns[1:]:\n",
        "    x[i] = x[i]/x[i][0]\n",
        "  return x"
      ],
      "execution_count": null,
      "outputs": []
    },
    {
      "cell_type": "code",
      "metadata": {
        "id": "0GDAgQaySUQb"
      },
      "source": [
        "# Function to plot interactive plot\n",
        "def interactive_plot(df, title):\n",
        "  fig = px.line(title = title)\n",
        "  for i in df.columns[1:]:\n",
        "    fig.add_scatter(x = df['Date'], y = df[i], name = i)\n",
        "  fig.show()"
      ],
      "execution_count": null,
      "outputs": []
    },
    {
      "cell_type": "code",
      "metadata": {
        "id": "6RxpH51ISUTS",
        "outputId": "89a6edb1-0be4-44ff-c4c7-d88ae7a1c396",
        "colab": {
          "base_uri": "https://localhost:8080/",
          "height": 185
        }
      },
      "source": [
        "# Plot interactive chart\n",
        "interactive_plot(stocks_df, 'Prices')"
      ],
      "execution_count": null,
      "outputs": [
        {
          "output_type": "error",
          "ename": "NameError",
          "evalue": "ignored",
          "traceback": [
            "\u001b[0;31m---------------------------------------------------------------------------\u001b[0m",
            "\u001b[0;31mNameError\u001b[0m                                 Traceback (most recent call last)",
            "\u001b[0;32m<ipython-input-32-10138e9c763d>\u001b[0m in \u001b[0;36m<module>\u001b[0;34m()\u001b[0m\n\u001b[1;32m      1\u001b[0m \u001b[0;31m# Plot interactive chart\u001b[0m\u001b[0;34m\u001b[0m\u001b[0;34m\u001b[0m\u001b[0;34m\u001b[0m\u001b[0m\n\u001b[0;32m----> 2\u001b[0;31m \u001b[0minteractive_plot\u001b[0m\u001b[0;34m(\u001b[0m\u001b[0mstocks_df\u001b[0m\u001b[0;34m,\u001b[0m \u001b[0;34m'Prices'\u001b[0m\u001b[0;34m)\u001b[0m\u001b[0;34m\u001b[0m\u001b[0;34m\u001b[0m\u001b[0m\n\u001b[0m",
            "\u001b[0;31mNameError\u001b[0m: name 'stocks_df' is not defined"
          ]
        }
      ]
    },
    {
      "cell_type": "code",
      "metadata": {
        "id": "GRc-WGmyTX85"
      },
      "source": [
        "# Plot normalized interactive chart\n",
        "interactive_plot(normalize(stocks_df), 'Normalized Prices')"
      ],
      "execution_count": null,
      "outputs": []
    },
    {
      "cell_type": "markdown",
      "metadata": {
        "id": "OOPqPtcrhpjY"
      },
      "source": [
        "**MINI CHALLENGE #2 SOLUTION:**\n",
        "- **What is the common advice that financial advisors generally recommend to retired seniors when it comes to asset allocations?**"
      ]
    },
    {
      "cell_type": "code",
      "metadata": {
        "id": "PcMYTf_0fwJh"
      },
      "source": [
        "# The conventional wisdom is to subtract client's age from 100 to calculate the % of portolio that should be allocated to stocks\n",
        "# For Example: If you're 30 years old, you should have 70% allocated to stocks\n",
        "# If you are 75 years old, you should invest 25% in stocks (old retired seniors generally recommend a more stable low risk portfolio). "
      ],
      "execution_count": null,
      "outputs": []
    },
    {
      "cell_type": "markdown",
      "metadata": {
        "id": "ZK9UrsUBfMKi"
      },
      "source": [
        "**MINI CHALLENGE #3 SOLUTION:** \n",
        "- **Try at least 3 another random weights allocation and rerun the code.** \n",
        "- **Compare the final portfolio value on Aug 11th, 2020 to its initial value ($1M) on January 12th, 2012. Do you notice a big difference? Comment on your answer.**"
      ]
    },
    {
      "cell_type": "code",
      "metadata": {
        "id": "mUKMgi7CdlGh"
      },
      "source": [
        "# remove the seed value of 101, run the code 3 times, and record the final portolio value on the last day (Aug 11th, 2020)\n",
        "np.random.seed()\n",
        "\n",
        "# Portfolio Value Run #1 = $6.383645e+06, weights = [0.01246531 0.23749173 0.18257962 0.03419922 0.08369018 0.23405306\n",
        " 0.07120053 0.00824087 0.13607948]\n",
        "\n",
        "# Portfolio Value Run #2 = $9.594104e+06, Weights = [0.13932903 0.04729773 0.15580758 0.03232255 0.0629491  0.15081605\n",
        " 0.12206726 0.16938746 0.12002324]\n",
        "\n",
        "# Portfolio Value Run #3 = 1.138105e+07, Weights = [0.17707261 0.06977804 0.02394314 0.1550952  0.11152213 0.12017452\n",
        " 0.14296447 0.05729485 0.14215505]"
      ],
      "execution_count": null,
      "outputs": []
    },
    {
      "cell_type": "markdown",
      "metadata": {
        "id": "tFlpXzk7ibOZ"
      },
      "source": [
        "**MINI CHALLENGE #4 SOLUTION:**\n",
        "- **Call the function and ensure that the results make sense**"
      ]
    },
    {
      "cell_type": "code",
      "metadata": {
        "id": "b-Ck69O2oX17"
      },
      "source": [
        "# Call the function\n",
        "df_portfolio = portfolio_allocation(stocks_df, weights)\n",
        "df_portfolio"
      ],
      "execution_count": null,
      "outputs": []
    },
    {
      "cell_type": "markdown",
      "metadata": {
        "id": "QDFMwr5GjKwX"
      },
      "source": [
        "**MINI CHALLENGE #5 SOLUTION:** \n",
        "- **Plot the portfolio overall daily worth vs. time.**\n",
        "- **Rerun the code with various weights and visualize the final value.** "
      ]
    },
    {
      "cell_type": "code",
      "metadata": {
        "id": "6O2v5bQEhPJ9"
      },
      "source": [
        "fig = px.line(x = df_portfolio.Date, y = df_portfolio['portfolio daily worth in $'], title= 'Portfolio Overall Value in $')\n",
        "fig.show()"
      ],
      "execution_count": null,
      "outputs": []
    },
    {
      "cell_type": "markdown",
      "metadata": {
        "id": "8hqlM9IOksYx"
      },
      "source": [
        "**MINI CHALLENGE #6 SOLUTION:** \n",
        "- **Try at least 3 different random weights allocation, rerun the code and compare sharpe ratios, daily return and cummulative returns.**"
      ]
    },
    {
      "cell_type": "code",
      "metadata": {
        "id": "UjdtFqnZktyD"
      },
      "source": [
        "# Rerun the code with 3 random values and compare metrics"
      ],
      "execution_count": null,
      "outputs": []
    },
    {
      "cell_type": "code",
      "metadata": {
        "id": "VQLCjQhnk1b_"
      },
      "source": [
        ""
      ],
      "execution_count": null,
      "outputs": []
    }
  ]
}